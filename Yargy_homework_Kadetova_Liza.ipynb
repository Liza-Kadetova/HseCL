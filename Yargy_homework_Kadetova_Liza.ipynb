{
 "cells": [
  {
   "cell_type": "markdown",
   "metadata": {},
   "source": [
    "# Задача\n",
    "\n",
    "На примере одного из текстов проектного датасета (тексты с planeta.ru) извлечь имена собственные людей и животных c ипользованием Natasha и Yagry."
   ]
  },
  {
   "cell_type": "code",
   "execution_count": 1,
   "metadata": {},
   "outputs": [],
   "source": [
    "text = '''Цель проекта - ликвидировать долги за ветеринарные услуги, накопившиеся в январе 2017 года за \n",
    "лечение, рентген, анестезию, УЗИ, анализы, инъекции питомцам \"Островка надежды\" г.Пермь\n",
    "И снова здравствуйте, Друзья!\n",
    "Меня зовут Надежда Николаевна, я директор Местной общественной организации защитников животных \n",
    "\"Островок надежды\" г.Пермь, мы называем себя Центром реабилитации для собак \"Островок надежды\" НЕ \n",
    "являемся муниципальным приютом и не получаем бюджетных денежных средств.\n",
    "История нашего Островка началась в 2010 году. В настоящее время в Островке нашли свой дом 450 собак и \n",
    "бывшедомашний, особенный кот Кипиш , который после случившейся трагедии в 2017 году стал инвалидом и \n",
    "находится в стационаре на лечении.\n",
    "Все питомцы Островка, в т. ч. особенные и возрастные собаки живут и получают ветеринарную помощь с первого до последнего дня и проживают до тех пор пока не найдут своего хозяина.\n",
    "В этой жизни их никто не ждал, но они выжили и с первых дней, как могли боролись за нее. Сейчас все иначе, \n",
    "теперь мы вместе боремся за каждого питомца. Это становится возможным благодаря помощи, поступающей от \n",
    "благотворителей, помощников, волонтеров, всех неравнодушных Пермяков и конечно Вашей неоценимой помощи, \n",
    "Друзья.\n",
    "Цель нашего проекта \"Не вешай нос! Или право на жизнь\" - ликвидировать долг за ветеринарные услуги, \n",
    "накопившиеся в январе и начале февраля 2017 года.\n",
    "С тяжёлыми травмами, обмороженные, голодные, с множеством болезней, животные попадают в приют. \n",
    "Мы - немногочисленная команда волонтеров и сотрудники приюта, действительно всеми силами отвоевываем \n",
    "каждого питомца у смерти, возвращая им веру в человечность людей.\n",
    "Сегодня мы Вас знакомим с 9 нашими питомцами, которым уже с первых дней начавшегося 2017 года потребовалась \n",
    "неотложная ветеринарная помощь. В январе средств не было, но и поступить по-другому мы не имели право. \n",
    "Лечили в долг. Спасибо Клинике \"Ветлайн\" за сотрудничество, за предоставление скидок на лечение наших \n",
    "питомцев, за оказание необходимой помощи в долг.\n",
    "Девять Островитян нуждаются в оплате за лечение, проведенные процедуры, рентген, анастезию, УЗИ, анализы, \n",
    "инъекции...\n",
    "Сегодня их жизни уже ничего не угрожает, лечение продолжается, но образовавшийся долг остался.\n",
    "Маня Печенька\n",
    "Хрюня Рекс|\n",
    "Люся\n",
    "Джина Маша\n",
    "Студент\n",
    "Лаки\n",
    "Тайга\n",
    "В январе спасен кот Кипиш (кота разорвали собаки, Кипиш потерял переднюю лапку), в настоящее время \n",
    "находится в стационаре на лечении.\n",
    "Лечение дорогостоящее, не судите нас, но мы ни на минуту не сомневались, что кота нужно спасать, силы и \n",
    "средства брошены на спасение маленькой, хрупкой жизни Кипиша.\n",
    "Документы, подтверждающие расходы:\n",
    "Вы были с нами каждый Проект, поддерживали и помогали.\n",
    "Мы боль сердец свою несли, и Вы нас выручали.\n",
    "Не останьтесь в стороне! Примите участие в Проекте!\n",
    "Всегда Ваши \"Островок надежды\" г. Пермь'''"
   ]
  },
  {
   "cell_type": "markdown",
   "metadata": {},
   "source": [
    "# Natasha"
   ]
  },
  {
   "cell_type": "code",
   "execution_count": 2,
   "metadata": {
    "collapsed": true
   },
   "outputs": [
    {
     "name": "stdout",
     "output_type": "stream",
     "text": [
      "Requirement already satisfied: wheel in /Library/Frameworks/Python.framework/Versions/3.8/lib/python3.8/site-packages (0.34.2)\n",
      "Note: you may need to restart the kernel to use updated packages.\n"
     ]
    }
   ],
   "source": [
    "pip install wheel"
   ]
  },
  {
   "cell_type": "code",
   "execution_count": 3,
   "metadata": {
    "collapsed": true
   },
   "outputs": [
    {
     "name": "stdout",
     "output_type": "stream",
     "text": [
      "Requirement already satisfied: natasha in /Library/Frameworks/Python.framework/Versions/3.8/lib/python3.8/site-packages (1.1.0)\n",
      "Requirement already satisfied: intervaltree>=3 in /Library/Frameworks/Python.framework/Versions/3.8/lib/python3.8/site-packages (from natasha) (3.0.2)\n",
      "Requirement already satisfied: yargy>=0.14.0 in /Library/Frameworks/Python.framework/Versions/3.8/lib/python3.8/site-packages (from natasha) (0.14.0)\n",
      "Requirement already satisfied: ipymarkup>=0.8.0 in /Library/Frameworks/Python.framework/Versions/3.8/lib/python3.8/site-packages (from natasha) (0.8.0)\n",
      "Requirement already satisfied: razdel>=0.5.0 in /Library/Frameworks/Python.framework/Versions/3.8/lib/python3.8/site-packages (from natasha) (0.5.0)\n",
      "Requirement already satisfied: pymorphy2 in /Library/Frameworks/Python.framework/Versions/3.8/lib/python3.8/site-packages (from natasha) (0.8)\n",
      "Requirement already satisfied: navec>=0.9.0 in /Library/Frameworks/Python.framework/Versions/3.8/lib/python3.8/site-packages (from natasha) (0.9.0)\n",
      "Requirement already satisfied: slovnet>=0.3.0 in /Library/Frameworks/Python.framework/Versions/3.8/lib/python3.8/site-packages (from natasha) (0.3.0)\n",
      "Requirement already satisfied: sortedcontainers<3.0,>=2.0 in /Library/Frameworks/Python.framework/Versions/3.8/lib/python3.8/site-packages (from intervaltree>=3->natasha) (2.1.0)\n",
      "Requirement already satisfied: pymorphy2-dicts<3.0,>=2.4 in /Library/Frameworks/Python.framework/Versions/3.8/lib/python3.8/site-packages (from pymorphy2->natasha) (2.4.393442.3710985)\n",
      "Requirement already satisfied: dawg-python>=0.7 in /Library/Frameworks/Python.framework/Versions/3.8/lib/python3.8/site-packages (from pymorphy2->natasha) (0.7.2)\n",
      "Requirement already satisfied: docopt>=0.6 in /Library/Frameworks/Python.framework/Versions/3.8/lib/python3.8/site-packages (from pymorphy2->natasha) (0.6.2)\n",
      "Requirement already satisfied: numpy in /Library/Frameworks/Python.framework/Versions/3.8/lib/python3.8/site-packages (from navec>=0.9.0->natasha) (1.18.3)\n",
      "Note: you may need to restart the kernel to use updated packages.\n"
     ]
    }
   ],
   "source": [
    "pip install natasha"
   ]
  },
  {
   "cell_type": "markdown",
   "metadata": {},
   "source": [
    "Тетрадки с аудиторных занятий у меня не сработали, что странно: раньше я уже пробовала парсить тексты прямо в них. Вероятно, библиотека обновилась. Поэтому пришлось изучать репозитории на гитхабе. Там я нашла разные скрипты для извлечения информации, но тоже сработали не все. "
   ]
  },
  {
   "cell_type": "markdown",
   "metadata": {},
   "source": [
    "Например, такой код ⬇︎ приводится в примерах в репозитории Natasha для парсинга имен собств. из новостей и отзывов о воспитателях, но у меня он выдает ошибки: \n",
    "\n",
    "No module named natasha.markup\n",
    "\n",
    "Match object has no attribute span"
   ]
  },
  {
   "cell_type": "code",
   "execution_count": 4,
   "metadata": {},
   "outputs": [
    {
     "ename": "AttributeError",
     "evalue": "'Match' object has no attribute 'span'",
     "output_type": "error",
     "traceback": [
      "\u001b[0;31m---------------------------------------------------------------------------\u001b[0m",
      "\u001b[0;31mAttributeError\u001b[0m                            Traceback (most recent call last)",
      "\u001b[0;32m<ipython-input-4-62ea7e82eae5>\u001b[0m in \u001b[0;36m<module>\u001b[0;34m\u001b[0m\n\u001b[1;32m      8\u001b[0m \u001b[0;34m\u001b[0m\u001b[0m\n\u001b[1;32m      9\u001b[0m \u001b[0mmatches\u001b[0m \u001b[0;34m=\u001b[0m \u001b[0mextractor\u001b[0m\u001b[0;34m(\u001b[0m\u001b[0mtext\u001b[0m\u001b[0;34m)\u001b[0m\u001b[0;34m\u001b[0m\u001b[0;34m\u001b[0m\u001b[0m\n\u001b[0;32m---> 10\u001b[0;31m \u001b[0mspans\u001b[0m \u001b[0;34m=\u001b[0m \u001b[0;34m[\u001b[0m\u001b[0m_\u001b[0m\u001b[0;34m.\u001b[0m\u001b[0mspan\u001b[0m \u001b[0;32mfor\u001b[0m \u001b[0m_\u001b[0m \u001b[0;32min\u001b[0m \u001b[0mmatches\u001b[0m\u001b[0;34m]\u001b[0m\u001b[0;34m\u001b[0m\u001b[0;34m\u001b[0m\u001b[0m\n\u001b[0m\u001b[1;32m     11\u001b[0m \u001b[0mshow_markup\u001b[0m\u001b[0;34m(\u001b[0m\u001b[0mtext\u001b[0m\u001b[0;34m,\u001b[0m \u001b[0mspans\u001b[0m\u001b[0;34m)\u001b[0m\u001b[0;34m\u001b[0m\u001b[0;34m\u001b[0m\u001b[0m\n\u001b[1;32m     12\u001b[0m \u001b[0mfacts\u001b[0m \u001b[0;34m=\u001b[0m \u001b[0;34m[\u001b[0m\u001b[0m_\u001b[0m\u001b[0;34m.\u001b[0m\u001b[0mfact\u001b[0m\u001b[0;34m.\u001b[0m\u001b[0mas_json\u001b[0m \u001b[0;32mfor\u001b[0m \u001b[0m_\u001b[0m \u001b[0;32min\u001b[0m \u001b[0mmatches\u001b[0m\u001b[0;34m]\u001b[0m\u001b[0;34m\u001b[0m\u001b[0;34m\u001b[0m\u001b[0m\n",
      "\u001b[0;32m<ipython-input-4-62ea7e82eae5>\u001b[0m in \u001b[0;36m<listcomp>\u001b[0;34m(.0)\u001b[0m\n\u001b[1;32m      8\u001b[0m \u001b[0;34m\u001b[0m\u001b[0m\n\u001b[1;32m      9\u001b[0m \u001b[0mmatches\u001b[0m \u001b[0;34m=\u001b[0m \u001b[0mextractor\u001b[0m\u001b[0;34m(\u001b[0m\u001b[0mtext\u001b[0m\u001b[0;34m)\u001b[0m\u001b[0;34m\u001b[0m\u001b[0;34m\u001b[0m\u001b[0m\n\u001b[0;32m---> 10\u001b[0;31m \u001b[0mspans\u001b[0m \u001b[0;34m=\u001b[0m \u001b[0;34m[\u001b[0m\u001b[0m_\u001b[0m\u001b[0;34m.\u001b[0m\u001b[0mspan\u001b[0m \u001b[0;32mfor\u001b[0m \u001b[0m_\u001b[0m \u001b[0;32min\u001b[0m \u001b[0mmatches\u001b[0m\u001b[0;34m]\u001b[0m\u001b[0;34m\u001b[0m\u001b[0;34m\u001b[0m\u001b[0m\n\u001b[0m\u001b[1;32m     11\u001b[0m \u001b[0mshow_markup\u001b[0m\u001b[0;34m(\u001b[0m\u001b[0mtext\u001b[0m\u001b[0;34m,\u001b[0m \u001b[0mspans\u001b[0m\u001b[0;34m)\u001b[0m\u001b[0;34m\u001b[0m\u001b[0;34m\u001b[0m\u001b[0m\n\u001b[1;32m     12\u001b[0m \u001b[0mfacts\u001b[0m \u001b[0;34m=\u001b[0m \u001b[0;34m[\u001b[0m\u001b[0m_\u001b[0m\u001b[0;34m.\u001b[0m\u001b[0mfact\u001b[0m\u001b[0;34m.\u001b[0m\u001b[0mas_json\u001b[0m \u001b[0;32mfor\u001b[0m \u001b[0m_\u001b[0m \u001b[0;32min\u001b[0m \u001b[0mmatches\u001b[0m\u001b[0;34m]\u001b[0m\u001b[0;34m\u001b[0m\u001b[0;34m\u001b[0m\u001b[0m\n",
      "\u001b[0;31mAttributeError\u001b[0m: 'Match' object has no attribute 'span'"
     ]
    }
   ],
   "source": [
    "from random import sample\n",
    "from natasha import NamesExtractor\n",
    "from natasha import MorphVocab\n",
    "#from natasha.markup import show_markup, show_json  #No module named 'natasha.markup'\n",
    "\n",
    "morph_vocab = MorphVocab()\n",
    "extractor = NamesExtractor(morph_vocab) \n",
    "\n",
    "matches = extractor(text)\n",
    "spans = [_.span for _ in matches]\n",
    "show_markup(text, spans)\n",
    "facts = [_.fact.as_json for _ in matches]\n",
    "show_json(facts)"
   ]
  },
  {
   "cell_type": "markdown",
   "metadata": {},
   "source": [
    "У Natasha есть преобразователь в собственный объект - doc. В документации сказано:\n",
    "One may use Natasha components independently. It is not mandatory to construct Doc object. В том числе - сказано, что можно использовать отдельно экстракторы. In addition to names_extractor Natasha bundles several other extractors: dates_extractor, money_extractor and addr_extractor. Names_extractor should be applied only to spans of text. To extract single fact use method find.\n",
    "\n",
    "Но проверить на своем тексте без создания объекта doc у меня не получилось: методы не работают со строкой, а только со spans, но превратить строку в spans без doc у меня не получилось. "
   ]
  },
  {
   "cell_type": "code",
   "execution_count": 5,
   "metadata": {
    "scrolled": true
   },
   "outputs": [
    {
     "data": {
      "text/plain": [
       "Match(\n",
       "    start=0,\n",
       "    stop=16,\n",
       "    fact=Name(\n",
       "        first='Мустафа',\n",
       "        last='Джемилев'\n",
       "    )\n",
       ")"
      ]
     },
     "metadata": {},
     "output_type": "display_data"
    },
    {
     "data": {
      "text/plain": [
       "Match(\n",
       "    start=0,\n",
       "    stop=12,\n",
       "    fact=Name(\n",
       "        first='О',\n",
       "        last='Дерипаска'\n",
       "    )\n",
       ")"
      ]
     },
     "metadata": {},
     "output_type": "display_data"
    },
    {
     "data": {
      "text/plain": [
       "Match(\n",
       "    start=0,\n",
       "    stop=22,\n",
       "    fact=Name(\n",
       "        first='Фёдор',\n",
       "        last='Шаляпин',\n",
       "        middle='Иванович'\n",
       "    )\n",
       ")"
      ]
     },
     "metadata": {},
     "output_type": "display_data"
    },
    {
     "data": {
      "text/plain": [
       "Match(\n",
       "    start=0,\n",
       "    stop=8,\n",
       "    fact=Name(\n",
       "        last='Янукович'\n",
       "    )\n",
       ")"
      ]
     },
     "metadata": {},
     "output_type": "display_data"
    }
   ],
   "source": [
    "# пример автономного использования экстрактора из документации (работает)\n",
    "\n",
    "from natasha import NewsNERTagger, NewsEmbedding\n",
    "emb = NewsEmbedding()\n",
    "ner_tagger = NewsNERTagger(emb)\n",
    "names_extractor = NamesExtractor(morph_vocab)\n",
    "\n",
    "lines = [\n",
    "    'Мустафа Джемилев',\n",
    "    'О. Дерипаска',\n",
    "    'Фёдор Иванович Шаляпин',\n",
    "    'Янукович'\n",
    "]\n",
    "for line in lines:\n",
    "    display(names_extractor.find(line))"
   ]
  },
  {
   "cell_type": "code",
   "execution_count": 6,
   "metadata": {
    "scrolled": true
   },
   "outputs": [
    {
     "data": {
      "text/plain": [
       "Match(\n",
       "    start=0,\n",
       "    stop=4,\n",
       "    fact=Name(\n",
       "        last='Цель'\n",
       "    )\n",
       ")"
      ]
     },
     "metadata": {},
     "output_type": "display_data"
    }
   ],
   "source": [
    "# попытка на своем тексте: не работает - берет только первое слово, сегментатор использовать не хочет. \n",
    "\n",
    "from natasha import Segmenter\n",
    "segmenter = Segmenter()\n",
    "#new_text = text.segment(segmenter)\n",
    "display(names_extractor.find(text)) "
   ]
  },
  {
   "cell_type": "markdown",
   "metadata": {},
   "source": [
    "Пробую с созданием объекта natasha.doc"
   ]
  },
  {
   "cell_type": "code",
   "execution_count": 7,
   "metadata": {},
   "outputs": [],
   "source": [
    "from natasha import Segmenter, MorphVocab, NewsMorphTagger, NewsNERTagger, PER, NamesExtractor, Doc\n",
    "\n",
    "segmenter = Segmenter()\n",
    "morph_vocab = MorphVocab()\n",
    "morph_tagger = NewsMorphTagger(emb)\n",
    "\n",
    "ner_tagger = NewsNERTagger(emb)\n",
    "names_extractor = NamesExtractor(morph_vocab)"
   ]
  },
  {
   "cell_type": "code",
   "execution_count": 8,
   "metadata": {},
   "outputs": [
    {
     "data": {
      "text/plain": [
       "Doc(text='Цель проекта - ликвидировать долги за ветеринарны...)"
      ]
     },
     "execution_count": 8,
     "metadata": {},
     "output_type": "execute_result"
    }
   ],
   "source": [
    "doc = Doc(text)\n",
    "doc"
   ]
  },
  {
   "cell_type": "code",
   "execution_count": 9,
   "metadata": {
    "scrolled": true
   },
   "outputs": [
    {
     "data": {
      "text/plain": [
       "Doc(text='Цель проекта - ликвидировать долги за ветеринарны..., tokens=[...], sents=[...])"
      ]
     },
     "metadata": {},
     "output_type": "display_data"
    },
    {
     "data": {
      "text/plain": [
       "[DocSent(stop=212, text='Цель проекта - ликвидировать долги за ветеринарны..., tokens=[...]),\n",
       " DocSent(start=213, stop=480, text='Меня зовут Надежда Николаевна, я директор Местной..., tokens=[...]),\n",
       " DocSent(start=481, stop=526, text='История нашего Островка началась в 2010 году.', tokens=[...]),\n",
       " DocSent(start=527, stop=720, text='В настоящее время в Островке нашли свой дом 450 с..., tokens=[...]),\n",
       " DocSent(start=721, stop=899, text='Все питомцы Островка, в т. ч. особенные и возраст..., tokens=[...]),\n",
       " DocSent(start=900, stop=988, text='В этой жизни их никто не ждал, но они выжили и с ..., tokens=[...]),\n",
       " DocSent(start=989, stop=1052, text='Сейчас все иначе, \\nтеперь мы вместе боремся за к..., tokens=[...]),\n",
       " DocSent(start=1053, stop=1224, text='Это становится возможным благодаря помощи, поступ..., tokens=[...]),\n",
       " DocSent(start=1225, stop=1259, text='Цель нашего проекта \"Не вешай нос!', tokens=[...]),\n",
       " DocSent(start=1260, stop=1375, text='Или право на жизнь\" - ликвидировать долг за ветер..., tokens=[...]),\n",
       " DocSent(start=1376, stop=1470, text='С тяжёлыми травмами, обмороженные, голодные, с мн..., tokens=[...]),\n",
       " DocSent(start=1472, stop=1639, text='Мы - немногочисленная команда волонтеров и сотруд..., tokens=[...]),\n",
       " DocSent(start=1640, stop=1780, text='Сегодня мы Вас знакомим с 9 нашими питомцами, кот..., tokens=[...]),\n",
       " DocSent(start=1781, stop=1851, text='В январе средств не было, но и поступить по-друго..., tokens=[...]),\n",
       " DocSent(start=1853, stop=1867, text='Лечили в долг.', tokens=[...]),\n",
       " DocSent(start=1868, stop=2004, text='Спасибо Клинике \"Ветлайн\" за сотрудничество, за п..., tokens=[...]),\n",
       " DocSent(start=2005, stop=2123, text='Девять Островитян нуждаются в оплате за лечение, ..., tokens=[...]),\n",
       " DocSent(start=2124, stop=2218, text='Сегодня их жизни уже ничего не угрожает, лечение ..., tokens=[...]),\n",
       " DocSent(start=2219, stop=2414, text='Маня Печенька\\nХрюня Рекс|\\nЛюся\\nДжина Маша\\nСту..., tokens=[...]),\n",
       " DocSent(start=2415, stop=2581, text='Лечение дорогостоящее, не судите нас, но мы ни на..., tokens=[...]),\n",
       " DocSent(start=2582, stop=2671, text='Документы, подтверждающие расходы:\\nВы были с нам..., tokens=[...]),\n",
       " DocSent(start=2672, stop=2717, text='Мы боль сердец свою несли, и Вы нас выручали.', tokens=[...]),\n",
       " DocSent(start=2718, stop=2742, text='Не останьтесь в стороне!', tokens=[...]),\n",
       " DocSent(start=2743, stop=2769, text='Примите участие в Проекте!', tokens=[...]),\n",
       " DocSent(start=2770, stop=2809, text='Всегда Ваши \"Островок надежды\" г. Пермь', tokens=[...])]"
      ]
     },
     "metadata": {},
     "output_type": "display_data"
    },
    {
     "data": {
      "text/plain": [
       "[DocToken(stop=4, text='Цель'),\n",
       " DocToken(start=5, stop=12, text='проекта'),\n",
       " DocToken(start=13, stop=14, text='-'),\n",
       " DocToken(start=15, stop=28, text='ликвидировать'),\n",
       " DocToken(start=29, stop=34, text='долги')]"
      ]
     },
     "metadata": {},
     "output_type": "display_data"
    }
   ],
   "source": [
    "# сегментация на предложения\n",
    "\n",
    "doc.segment(segmenter)\n",
    "display(doc)\n",
    "display(doc.sents)\n",
    "display(doc.tokens[:5])"
   ]
  },
  {
   "cell_type": "code",
   "execution_count": 10,
   "metadata": {},
   "outputs": [
    {
     "data": {
      "text/plain": [
       "[DocSpan(start=177, stop=182, type='LOC', text='Пермь', tokens=[...]),\n",
       " DocSpan(start=224, stop=242, type='PER', text='Надежда Николаевна', tokens=[...]),\n",
       " DocSpan(start=255, stop=326, type='ORG', text='Местной общественной организации защитников живот..., tokens=[...]),\n",
       " DocSpan(start=330, stop=335, type='LOC', text='Пермь', tokens=[...]),\n",
       " DocSpan(start=354, stop=402, type='ORG', text='Центром реабилитации для собак \"Островок надежды', tokens=[...]),\n",
       " DocSpan(start=496, stop=504, type='PER', text='Островка', tokens=[...]),\n",
       " DocSpan(start=547, stop=555, type='LOC', text='Островке', tokens=[...]),\n",
       " DocSpan(start=613, stop=618, type='PER', text='Кипиш', tokens=[...]),\n",
       " DocSpan(start=733, stop=741, type='LOC', text='Островка', tokens=[...]),\n",
       " DocSpan(start=1172, stop=1180, type='LOC', text='Пермяков', tokens=[...]),\n",
       " DocSpan(start=1876, stop=1883, type='PER', text='Клинике', tokens=[...]),\n",
       " DocSpan(start=1885, stop=1892, type='ORG', text='Ветлайн', tokens=[...]),\n",
       " DocSpan(start=2219, stop=2243, type='PER', text='Маня Печенька\\nХрюня Рекс', tokens=[...]),\n",
       " DocSpan(start=2269, stop=2279, type='PER', text='Лаки\\nТайга', tokens=[...]),\n",
       " DocSpan(start=2300, stop=2305, type='PER', text='Кипиш', tokens=[...]),\n",
       " DocSpan(start=2330, stop=2335, type='PER', text='Кипиш', tokens=[...]),\n",
       " DocSpan(start=2574, stop=2580, type='PER', text='Кипиша', tokens=[...]),\n",
       " DocSpan(start=2804, stop=2809, type='LOC', text='Пермь', tokens=[...])]"
      ]
     },
     "metadata": {},
     "output_type": "display_data"
    }
   ],
   "source": [
    "# типы найденных сущностей\n",
    "\n",
    "doc.tag_ner(ner_tagger)\n",
    "display(doc.spans)\n",
    "\n",
    "# Не работает без предварительной сегментации (doc.segment), ошибка 'NoneType' object is not iterable"
   ]
  },
  {
   "cell_type": "code",
   "execution_count": 11,
   "metadata": {
    "collapsed": true
   },
   "outputs": [
    {
     "name": "stdout",
     "output_type": "stream",
     "text": [
      "Requirement already satisfied: yargy in /Library/Frameworks/Python.framework/Versions/3.8/lib/python3.8/site-packages (0.14.0)\n",
      "Requirement already satisfied: ipymarkup in /Library/Frameworks/Python.framework/Versions/3.8/lib/python3.8/site-packages (0.8.0)\n",
      "Requirement already satisfied: pymorphy2 in /Library/Frameworks/Python.framework/Versions/3.8/lib/python3.8/site-packages (from yargy) (0.8)\n",
      "Requirement already satisfied: intervaltree>=3 in /Library/Frameworks/Python.framework/Versions/3.8/lib/python3.8/site-packages (from ipymarkup) (3.0.2)\n",
      "Requirement already satisfied: dawg-python>=0.7 in /Library/Frameworks/Python.framework/Versions/3.8/lib/python3.8/site-packages (from pymorphy2->yargy) (0.7.2)\n",
      "Requirement already satisfied: docopt>=0.6 in /Library/Frameworks/Python.framework/Versions/3.8/lib/python3.8/site-packages (from pymorphy2->yargy) (0.6.2)\n",
      "Requirement already satisfied: pymorphy2-dicts<3.0,>=2.4 in /Library/Frameworks/Python.framework/Versions/3.8/lib/python3.8/site-packages (from pymorphy2->yargy) (2.4.393442.3710985)\n",
      "Requirement already satisfied: sortedcontainers<3.0,>=2.0 in /Library/Frameworks/Python.framework/Versions/3.8/lib/python3.8/site-packages (from intervaltree>=3->ipymarkup) (2.1.0)\n",
      "Note: you may need to restart the kernel to use updated packages.\n"
     ]
    }
   ],
   "source": [
    "pip install yargy ipymarkup"
   ]
  },
  {
   "cell_type": "code",
   "execution_count": 12,
   "metadata": {
    "scrolled": false
   },
   "outputs": [
    {
     "name": "stdout",
     "output_type": "stream",
     "text": [
      "Цель проекта - ликвидировать долги за ветеринарные услуги, \n",
      "накопившиеся в январе 2017 года за \n",
      "лечение, рентген, анестезию, УЗИ, анализы, инъекции питомцам \"Островка\n",
      " надежды\" г.Пермь\n",
      "            LOC──\n",
      "И снова здравствуйте, Друзья!\n",
      "Меня зовут Надежда Николаевна, я директор Местной общественной \n",
      "           PER───────────────             ORG──────────────────\n",
      "организации защитников животных \n",
      "────────────────────────────────\n",
      "\"Островок надежды\" г.Пермь, мы называем себя Центром реабилитации для \n",
      "─────────────────    LOC──                   ORG──────────────────────\n",
      "собак \"Островок надежды\" НЕ \n",
      "───────────────────────     \n",
      "являемся муниципальным приютом и не получаем бюджетных денежных \n",
      "средств.\n",
      "История нашего Островка началась в 2010 году. В настоящее время в \n",
      "               PER─────                                           \n",
      "Островке нашли свой дом 450 собак и \n",
      "LOC─────                            \n",
      "бывшедомашний, особенный кот Кипиш , который после случившейся \n",
      "                             PER──                             \n",
      "трагедии в 2017 году стал инвалидом и \n",
      "находится в стационаре на лечении.\n",
      "Все питомцы Островка, в т. ч. особенные и возрастные собаки живут и \n",
      "            LOC─────                                                \n",
      "получают ветеринарную помощь с первого до последнего дня и проживают \n",
      "до тех пор пока не найдут своего хозяина.\n",
      "В этой жизни их никто не ждал, но они выжили и с первых дней, как \n",
      "могли боролись за нее. Сейчас все иначе, \n",
      "теперь мы вместе боремся за каждого питомца. Это становится возможным \n",
      "благодаря помощи, поступающей от \n",
      "благотворителей, помощников, волонтеров, всех неравнодушных Пермяков и\n",
      "                                                            LOC─────  \n",
      " конечно Вашей неоценимой помощи, \n",
      "Друзья.\n",
      "Цель нашего проекта \"Не вешай нос! Или право на жизнь\" - ликвидировать\n",
      " долг за ветеринарные услуги, \n",
      "накопившиеся в январе и начале февраля 2017 года.\n",
      "С тяжёлыми травмами, обмороженные, голодные, с множеством болезней, \n",
      "животные попадают в приют. \n",
      "Мы - немногочисленная команда волонтеров и сотрудники приюта, \n",
      "действительно всеми силами отвоевываем \n",
      "каждого питомца у смерти, возвращая им веру в человечность людей.\n",
      "Сегодня мы Вас знакомим с 9 нашими питомцами, которым уже с первых \n",
      "дней начавшегося 2017 года потребовалась \n",
      "неотложная ветеринарная помощь. В январе средств не было, но и \n",
      "поступить по-другому мы не имели право. \n",
      "Лечили в долг. Спасибо Клинике \"Ветлайн\" за сотрудничество, за \n",
      "                       PER────  ORG────                        \n",
      "предоставление скидок на лечение наших \n",
      "питомцев, за оказание необходимой помощи в долг.\n",
      "Девять Островитян нуждаются в оплате за лечение, проведенные \n",
      "процедуры, рентген, анастезию, УЗИ, анализы, \n",
      "инъекции...\n",
      "Сегодня их жизни уже ничего не угрожает, лечение продолжается, но \n",
      "образовавшийся долг остался.\n",
      "Маня Печенька\n",
      "PER──────────\n",
      "Хрюня Рекс|\n",
      "────────── \n",
      "Люся\n",
      "Джина Маша\n",
      "Студент\n",
      "Лаки\n",
      "PER─\n",
      "Тайга\n",
      "─────\n",
      "В январе спасен кот Кипиш (кота разорвали собаки, Кипиш потерял \n",
      "                    PER──                         PER──         \n",
      "переднюю лапку), в настоящее время \n",
      "находится в стационаре на лечении.\n",
      "Лечение дорогостоящее, не судите нас, но мы ни на минуту не \n",
      "сомневались, что кота нужно спасать, силы и \n",
      "средства брошены на спасение маленькой, хрупкой жизни Кипиша.\n",
      "                                                      PER─── \n",
      "Документы, подтверждающие расходы:\n",
      "Вы были с нами каждый Проект, поддерживали и помогали.\n",
      "Мы боль сердец свою несли, и Вы нас выручали.\n",
      "Не останьтесь в стороне! Примите участие в Проекте!\n",
      "Всегда Ваши \"Островок надежды\" г. Пермь\n",
      "                                  LOC──\n"
     ]
    }
   ],
   "source": [
    "# разметка в тексте\n",
    "doc.ner.print()"
   ]
  },
  {
   "cell_type": "code",
   "execution_count": 13,
   "metadata": {},
   "outputs": [
    {
     "name": "stdout",
     "output_type": "stream",
     "text": [
      "DocSpan(start=224, stop=242, type='PER', text='Надежда Николаевна', tokens=[...])\n",
      "DocSpan(start=496, stop=504, type='PER', text='Островка', tokens=[...])\n",
      "DocSpan(start=613, stop=618, type='PER', text='Кипиш', tokens=[...])\n",
      "DocSpan(start=1876, stop=1883, type='PER', text='Клинике', tokens=[...])\n",
      "DocSpan(start=2219, stop=2243, type='PER', text='Маня Печенька\\nХрюня Рекс', tokens=[...])\n",
      "DocSpan(start=2269, stop=2279, type='PER', text='Лаки\\nТайга', tokens=[...])\n",
      "DocSpan(start=2300, stop=2305, type='PER', text='Кипиш', tokens=[...])\n",
      "DocSpan(start=2330, stop=2335, type='PER', text='Кипиш', tokens=[...])\n",
      "DocSpan(start=2574, stop=2580, type='PER', text='Кипиша', tokens=[...])\n"
     ]
    }
   ],
   "source": [
    "# печатаем только имена (без локаций)\n",
    "\n",
    "for span in doc.spans:\n",
    "    if span.type == PER:\n",
    "        print(span)"
   ]
  },
  {
   "cell_type": "markdown",
   "metadata": {},
   "source": [
    "Неплохо, но:\n",
    "\n",
    " - извлеклось не все (Студент, Джина, Люся...)\n",
    " - некоторые токены склеились из-за верстки (Маня Печенька\\nХрюня Рекс)\n",
    " - извлеклось лишее (Островка)\n",
    " \n",
    " \n",
    "Возможно, помогла бы предобработка текста, но в документации Наташи сказано, что для realworld задач лучше писать свои парвила на Yargy, который и работает \"под капотом\" Natasha."
   ]
  },
  {
   "cell_type": "code",
   "execution_count": null,
   "metadata": {},
   "outputs": [],
   "source": []
  },
  {
   "cell_type": "markdown",
   "metadata": {},
   "source": [
    "# Yargy"
   ]
  },
  {
   "cell_type": "code",
   "execution_count": 14,
   "metadata": {},
   "outputs": [],
   "source": [
    "from yargy import Parser, rule, and_, not_, or_\n",
    "from yargy.interpretation import fact\n",
    "from yargy.predicates import gram, is_capitalized, dictionary, gte, lte, length_eq, custom, eq\n",
    "from yargy.relations import gnc_relation\n",
    "from yargy.pipelines import morph_pipeline\n",
    "from ipymarkup import show_span_ascii_markup as show_markup\n",
    "from IPython.display import display"
   ]
  },
  {
   "cell_type": "code",
   "execution_count": 15,
   "metadata": {},
   "outputs": [
    {
     "name": "stdout",
     "output_type": "stream",
     "text": [
      "dot - graphviz version 2.44.0 (20200408.0750)\r\n"
     ]
    }
   ],
   "source": [
    "import graphviz\n",
    "!dot -V # проверяет версияю утилиты graphviz"
   ]
  },
  {
   "cell_type": "code",
   "execution_count": 16,
   "metadata": {},
   "outputs": [],
   "source": [
    "from IPython.display import display"
   ]
  },
  {
   "cell_type": "code",
   "execution_count": 17,
   "metadata": {
    "scrolled": true
   },
   "outputs": [
    {
     "data": {
      "text/plain": [
       "Person(\n",
       "    position=None,\n",
       "    name='надежда',\n",
       "    middle='николаевна',\n",
       "    surname=None\n",
       ")"
      ]
     },
     "metadata": {},
     "output_type": "display_data"
    },
    {
     "data": {
      "image/svg+xml": [
       "<?xml version=\"1.0\" encoding=\"UTF-8\" standalone=\"no\"?>\n",
       "<!DOCTYPE svg PUBLIC \"-//W3C//DTD SVG 1.1//EN\"\n",
       " \"http://www.w3.org/Graphics/SVG/1.1/DTD/svg11.dtd\">\n",
       "<!-- Generated by graphviz version 2.44.0 (20200408.0750)\n",
       " -->\n",
       "<!-- Title: G Pages: 1 -->\n",
       "<svg width=\"288pt\" height=\"108pt\"\n",
       " viewBox=\"0.00 0.00 287.50 108.00\" xmlns=\"http://www.w3.org/2000/svg\" xmlns:xlink=\"http://www.w3.org/1999/xlink\">\n",
       "<g id=\"graph0\" class=\"graph\" transform=\"scale(1 1) rotate(0) translate(4 104)\">\n",
       "<title>G</title>\n",
       "<polygon fill=\"white\" stroke=\"transparent\" points=\"-4,4 -4,-104 283.5,-104 283.5,4 -4,4\"/>\n",
       "<!-- 0 -->\n",
       "<g id=\"node1\" class=\"node\">\n",
       "<title>0</title>\n",
       "<polygon fill=\"#dbdb8d\" stroke=\"transparent\" points=\"157.5,-100 110.5,-100 110.5,-81 157.5,-81 157.5,-100\"/>\n",
       "<text text-anchor=\"middle\" x=\"134\" y=\"-88\" font-family=\"sans\" font-size=\"10.00\">Person</text>\n",
       "</g>\n",
       "<!-- 1 -->\n",
       "<g id=\"node2\" class=\"node\">\n",
       "<title>1</title>\n",
       "<polygon fill=\"#dbdb8d\" stroke=\"transparent\" points=\"168,-73 0,-73 0,-54 168,-54 168,-73\"/>\n",
       "<text text-anchor=\"middle\" x=\"84\" y=\"-61\" font-family=\"sans\" font-size=\"10.00\">Person.name.inflected(nomn, sing)</text>\n",
       "</g>\n",
       "<!-- 0&#45;&gt;1 -->\n",
       "<g id=\"edge1\" class=\"edge\">\n",
       "<title>0&#45;&gt;1</title>\n",
       "<path fill=\"none\" stroke=\"gray\" d=\"M116.79,-80.9C112.66,-78.83 108.21,-76.61 103.97,-74.48\"/>\n",
       "<polygon fill=\"gray\" stroke=\"gray\" points=\"104.22,-73.44 101.07,-73.03 103.28,-75.32 104.22,-73.44\"/>\n",
       "</g>\n",
       "<!-- 3 -->\n",
       "<g id=\"node4\" class=\"node\">\n",
       "<title>3</title>\n",
       "<polygon fill=\"#aec7e8\" stroke=\"transparent\" points=\"202.5,-73 173.5,-73 173.5,-54 202.5,-54 202.5,-73\"/>\n",
       "<text text-anchor=\"middle\" x=\"188\" y=\"-61\" font-family=\"sans\" font-size=\"10.00\">R3</text>\n",
       "</g>\n",
       "<!-- 0&#45;&gt;3 -->\n",
       "<g id=\"edge2\" class=\"edge\">\n",
       "<title>0&#45;&gt;3</title>\n",
       "<path fill=\"none\" stroke=\"gray\" d=\"M152.58,-80.9C158.46,-78.18 164.92,-75.19 170.7,-72.51\"/>\n",
       "<polygon fill=\"gray\" stroke=\"gray\" points=\"171.19,-73.44 173.48,-71.22 170.31,-71.53 171.19,-73.44\"/>\n",
       "</g>\n",
       "<!-- 2 -->\n",
       "<g id=\"node3\" class=\"node\">\n",
       "<title>2</title>\n",
       "<polygon fill=\"#eeeeee\" stroke=\"transparent\" points=\"105.5,-46 46.5,-46 46.5,-27 105.5,-27 105.5,-46\"/>\n",
       "<text text-anchor=\"middle\" x=\"76\" y=\"-34\" font-family=\"sans\" font-size=\"10.00\">Надежда</text>\n",
       "</g>\n",
       "<!-- 1&#45;&gt;2 -->\n",
       "<g id=\"edge3\" class=\"edge\">\n",
       "<title>1&#45;&gt;2</title>\n",
       "<path fill=\"none\" stroke=\"gray\" d=\"M81.2,-53.76C80.76,-52.36 80.29,-50.9 79.82,-49.45\"/>\n",
       "<polygon fill=\"gray\" stroke=\"gray\" points=\"80.67,-48.65 78.76,-46.11 78.67,-49.29 80.67,-48.65\"/>\n",
       "</g>\n",
       "<!-- 4 -->\n",
       "<g id=\"node5\" class=\"node\">\n",
       "<title>4</title>\n",
       "<polygon fill=\"#dbdb8d\" stroke=\"transparent\" points=\"279.5,-46 106.5,-46 106.5,-27 279.5,-27 279.5,-46\"/>\n",
       "<text text-anchor=\"middle\" x=\"193\" y=\"-34\" font-family=\"sans\" font-size=\"10.00\">Person.middle.inflected(nomn, sing)</text>\n",
       "</g>\n",
       "<!-- 3&#45;&gt;4 -->\n",
       "<g id=\"edge4\" class=\"edge\">\n",
       "<title>3&#45;&gt;4</title>\n",
       "<path fill=\"none\" stroke=\"gray\" d=\"M189.75,-53.76C190.03,-52.36 190.32,-50.9 190.61,-49.45\"/>\n",
       "<polygon fill=\"gray\" stroke=\"gray\" points=\"191.72,-49.26 191.28,-46.11 189.66,-48.85 191.72,-49.26\"/>\n",
       "</g>\n",
       "<!-- 5 -->\n",
       "<g id=\"node6\" class=\"node\">\n",
       "<title>5</title>\n",
       "<polygon fill=\"#eeeeee\" stroke=\"transparent\" points=\"229.5,-19 156.5,-19 156.5,0 229.5,0 229.5,-19\"/>\n",
       "<text text-anchor=\"middle\" x=\"193\" y=\"-7\" font-family=\"sans\" font-size=\"10.00\">Николаевна</text>\n",
       "</g>\n",
       "<!-- 4&#45;&gt;5 -->\n",
       "<g id=\"edge5\" class=\"edge\">\n",
       "<title>4&#45;&gt;5</title>\n",
       "<path fill=\"none\" stroke=\"gray\" d=\"M193,-26.76C193,-25.36 193,-23.9 193,-22.45\"/>\n",
       "<polygon fill=\"gray\" stroke=\"gray\" points=\"194.05,-22.11 193,-19.11 191.95,-22.11 194.05,-22.11\"/>\n",
       "</g>\n",
       "</g>\n",
       "</svg>\n"
      ],
      "text/plain": [
       "Graph(nodes=[...], edges=[...])"
      ]
     },
     "metadata": {},
     "output_type": "display_data"
    },
    {
     "data": {
      "text/plain": [
       "Person(\n",
       "    position='кот',\n",
       "    name='кипиш',\n",
       "    middle=None,\n",
       "    surname=None\n",
       ")"
      ]
     },
     "metadata": {},
     "output_type": "display_data"
    },
    {
     "data": {
      "image/svg+xml": [
       "<?xml version=\"1.0\" encoding=\"UTF-8\" standalone=\"no\"?>\n",
       "<!DOCTYPE svg PUBLIC \"-//W3C//DTD SVG 1.1//EN\"\n",
       " \"http://www.w3.org/Graphics/SVG/1.1/DTD/svg11.dtd\">\n",
       "<!-- Generated by graphviz version 2.44.0 (20200408.0750)\n",
       " -->\n",
       "<!-- Title: G Pages: 1 -->\n",
       "<svg width=\"291pt\" height=\"108pt\"\n",
       " viewBox=\"0.00 0.00 291.00 108.00\" xmlns=\"http://www.w3.org/2000/svg\" xmlns:xlink=\"http://www.w3.org/1999/xlink\">\n",
       "<g id=\"graph0\" class=\"graph\" transform=\"scale(1 1) rotate(0) translate(4 104)\">\n",
       "<title>G</title>\n",
       "<polygon fill=\"white\" stroke=\"transparent\" points=\"-4,4 -4,-104 287,-104 287,4 -4,4\"/>\n",
       "<!-- 0 -->\n",
       "<g id=\"node1\" class=\"node\">\n",
       "<title>0</title>\n",
       "<polygon fill=\"#dbdb8d\" stroke=\"transparent\" points=\"169.5,-100 122.5,-100 122.5,-81 169.5,-81 169.5,-100\"/>\n",
       "<text text-anchor=\"middle\" x=\"146\" y=\"-88\" font-family=\"sans\" font-size=\"10.00\">Person</text>\n",
       "</g>\n",
       "<!-- 1 -->\n",
       "<g id=\"node2\" class=\"node\">\n",
       "<title>1</title>\n",
       "<polygon fill=\"#aec7e8\" stroke=\"transparent\" points=\"110.5,-73 81.5,-73 81.5,-54 110.5,-54 110.5,-73\"/>\n",
       "<text text-anchor=\"middle\" x=\"96\" y=\"-61\" font-family=\"sans\" font-size=\"10.00\">R1</text>\n",
       "</g>\n",
       "<!-- 0&#45;&gt;1 -->\n",
       "<g id=\"edge1\" class=\"edge\">\n",
       "<title>0&#45;&gt;1</title>\n",
       "<path fill=\"none\" stroke=\"gray\" d=\"M128.79,-80.9C123.84,-78.42 118.42,-75.71 113.45,-73.23\"/>\n",
       "<polygon fill=\"gray\" stroke=\"gray\" points=\"113.89,-72.27 110.74,-71.87 112.95,-74.15 113.89,-72.27\"/>\n",
       "</g>\n",
       "<!-- 4 -->\n",
       "<g id=\"node5\" class=\"node\">\n",
       "<title>4</title>\n",
       "<polygon fill=\"#dbdb8d\" stroke=\"transparent\" points=\"283,-73 115,-73 115,-54 283,-54 283,-73\"/>\n",
       "<text text-anchor=\"middle\" x=\"199\" y=\"-61\" font-family=\"sans\" font-size=\"10.00\">Person.name.inflected(nomn, sing)</text>\n",
       "</g>\n",
       "<!-- 0&#45;&gt;4 -->\n",
       "<g id=\"edge2\" class=\"edge\">\n",
       "<title>0&#45;&gt;4</title>\n",
       "<path fill=\"none\" stroke=\"gray\" d=\"M164.24,-80.9C168.7,-78.79 173.51,-76.52 178.09,-74.36\"/>\n",
       "<polygon fill=\"gray\" stroke=\"gray\" points=\"178.64,-75.26 180.91,-73.03 177.75,-73.37 178.64,-75.26\"/>\n",
       "</g>\n",
       "<!-- 2 -->\n",
       "<g id=\"node3\" class=\"node\">\n",
       "<title>2</title>\n",
       "<polygon fill=\"#dbdb8d\" stroke=\"transparent\" points=\"178,-46 0,-46 0,-27 178,-27 178,-46\"/>\n",
       "<text text-anchor=\"middle\" x=\"89\" y=\"-34\" font-family=\"sans\" font-size=\"10.00\">Person.position.inflected(nomn, sing)</text>\n",
       "</g>\n",
       "<!-- 1&#45;&gt;2 -->\n",
       "<g id=\"edge3\" class=\"edge\">\n",
       "<title>1&#45;&gt;2</title>\n",
       "<path fill=\"none\" stroke=\"gray\" d=\"M93.55,-53.76C93.16,-52.36 92.75,-50.9 92.35,-49.45\"/>\n",
       "<polygon fill=\"gray\" stroke=\"gray\" points=\"93.23,-48.72 91.41,-46.11 91.21,-49.28 93.23,-48.72\"/>\n",
       "</g>\n",
       "<!-- 3 -->\n",
       "<g id=\"node4\" class=\"node\">\n",
       "<title>3</title>\n",
       "<polygon fill=\"#eeeeee\" stroke=\"transparent\" points=\"105,-19 73,-19 73,0 105,0 105,-19\"/>\n",
       "<text text-anchor=\"middle\" x=\"89\" y=\"-7\" font-family=\"sans\" font-size=\"10.00\">кот</text>\n",
       "</g>\n",
       "<!-- 2&#45;&gt;3 -->\n",
       "<g id=\"edge4\" class=\"edge\">\n",
       "<title>2&#45;&gt;3</title>\n",
       "<path fill=\"none\" stroke=\"gray\" d=\"M89,-26.76C89,-25.36 89,-23.9 89,-22.45\"/>\n",
       "<polygon fill=\"gray\" stroke=\"gray\" points=\"90.05,-22.11 89,-19.11 87.95,-22.11 90.05,-22.11\"/>\n",
       "</g>\n",
       "<!-- 5 -->\n",
       "<g id=\"node6\" class=\"node\">\n",
       "<title>5</title>\n",
       "<polygon fill=\"#eeeeee\" stroke=\"transparent\" points=\"227,-46 179,-46 179,-27 227,-27 227,-46\"/>\n",
       "<text text-anchor=\"middle\" x=\"203\" y=\"-34\" font-family=\"sans\" font-size=\"10.00\">Кипиш</text>\n",
       "</g>\n",
       "<!-- 4&#45;&gt;5 -->\n",
       "<g id=\"edge5\" class=\"edge\">\n",
       "<title>4&#45;&gt;5</title>\n",
       "<path fill=\"none\" stroke=\"gray\" d=\"M200.4,-53.76C200.62,-52.36 200.86,-50.9 201.09,-49.45\"/>\n",
       "<polygon fill=\"gray\" stroke=\"gray\" points=\"202.18,-49.24 201.62,-46.11 200.11,-48.91 202.18,-49.24\"/>\n",
       "</g>\n",
       "</g>\n",
       "</svg>\n"
      ],
      "text/plain": [
       "Graph(nodes=[...], edges=[...])"
      ]
     },
     "metadata": {},
     "output_type": "display_data"
    },
    {
     "data": {
      "text/plain": [
       "Person(\n",
       "    position=None,\n",
       "    name='ветлайна',\n",
       "    middle=None,\n",
       "    surname=None\n",
       ")"
      ]
     },
     "metadata": {},
     "output_type": "display_data"
    },
    {
     "data": {
      "image/svg+xml": [
       "<?xml version=\"1.0\" encoding=\"UTF-8\" standalone=\"no\"?>\n",
       "<!DOCTYPE svg PUBLIC \"-//W3C//DTD SVG 1.1//EN\"\n",
       " \"http://www.w3.org/Graphics/SVG/1.1/DTD/svg11.dtd\">\n",
       "<!-- Generated by graphviz version 2.44.0 (20200408.0750)\n",
       " -->\n",
       "<!-- Title: G Pages: 1 -->\n",
       "<svg width=\"176pt\" height=\"81pt\"\n",
       " viewBox=\"0.00 0.00 176.00 81.00\" xmlns=\"http://www.w3.org/2000/svg\" xmlns:xlink=\"http://www.w3.org/1999/xlink\">\n",
       "<g id=\"graph0\" class=\"graph\" transform=\"scale(1 1) rotate(0) translate(4 77)\">\n",
       "<title>G</title>\n",
       "<polygon fill=\"white\" stroke=\"transparent\" points=\"-4,4 -4,-77 172,-77 172,4 -4,4\"/>\n",
       "<!-- 0 -->\n",
       "<g id=\"node1\" class=\"node\">\n",
       "<title>0</title>\n",
       "<polygon fill=\"#dbdb8d\" stroke=\"transparent\" points=\"107.5,-73 60.5,-73 60.5,-54 107.5,-54 107.5,-73\"/>\n",
       "<text text-anchor=\"middle\" x=\"84\" y=\"-61\" font-family=\"sans\" font-size=\"10.00\">Person</text>\n",
       "</g>\n",
       "<!-- 1 -->\n",
       "<g id=\"node2\" class=\"node\">\n",
       "<title>1</title>\n",
       "<polygon fill=\"#dbdb8d\" stroke=\"transparent\" points=\"168,-46 0,-46 0,-27 168,-27 168,-46\"/>\n",
       "<text text-anchor=\"middle\" x=\"84\" y=\"-34\" font-family=\"sans\" font-size=\"10.00\">Person.name.inflected(nomn, sing)</text>\n",
       "</g>\n",
       "<!-- 0&#45;&gt;1 -->\n",
       "<g id=\"edge1\" class=\"edge\">\n",
       "<title>0&#45;&gt;1</title>\n",
       "<path fill=\"none\" stroke=\"gray\" d=\"M84,-53.76C84,-52.36 84,-50.9 84,-49.45\"/>\n",
       "<polygon fill=\"gray\" stroke=\"gray\" points=\"85.05,-49.11 84,-46.11 82.95,-49.11 85.05,-49.11\"/>\n",
       "</g>\n",
       "<!-- 2 -->\n",
       "<g id=\"node3\" class=\"node\">\n",
       "<title>2</title>\n",
       "<polygon fill=\"#eeeeee\" stroke=\"transparent\" points=\"112,-19 56,-19 56,0 112,0 112,-19\"/>\n",
       "<text text-anchor=\"middle\" x=\"84\" y=\"-7\" font-family=\"sans\" font-size=\"10.00\">Ветлайн</text>\n",
       "</g>\n",
       "<!-- 1&#45;&gt;2 -->\n",
       "<g id=\"edge2\" class=\"edge\">\n",
       "<title>1&#45;&gt;2</title>\n",
       "<path fill=\"none\" stroke=\"gray\" d=\"M84,-26.76C84,-25.36 84,-23.9 84,-22.45\"/>\n",
       "<polygon fill=\"gray\" stroke=\"gray\" points=\"85.05,-22.11 84,-19.11 82.95,-22.11 85.05,-22.11\"/>\n",
       "</g>\n",
       "</g>\n",
       "</svg>\n"
      ],
      "text/plain": [
       "Graph(nodes=[...], edges=[...])"
      ]
     },
     "metadata": {},
     "output_type": "display_data"
    },
    {
     "data": {
      "text/plain": [
       "Person(\n",
       "    position=None,\n",
       "    name='маня',\n",
       "    middle=None,\n",
       "    surname=None\n",
       ")"
      ]
     },
     "metadata": {},
     "output_type": "display_data"
    },
    {
     "data": {
      "image/svg+xml": [
       "<?xml version=\"1.0\" encoding=\"UTF-8\" standalone=\"no\"?>\n",
       "<!DOCTYPE svg PUBLIC \"-//W3C//DTD SVG 1.1//EN\"\n",
       " \"http://www.w3.org/Graphics/SVG/1.1/DTD/svg11.dtd\">\n",
       "<!-- Generated by graphviz version 2.44.0 (20200408.0750)\n",
       " -->\n",
       "<!-- Title: G Pages: 1 -->\n",
       "<svg width=\"176pt\" height=\"81pt\"\n",
       " viewBox=\"0.00 0.00 176.00 81.00\" xmlns=\"http://www.w3.org/2000/svg\" xmlns:xlink=\"http://www.w3.org/1999/xlink\">\n",
       "<g id=\"graph0\" class=\"graph\" transform=\"scale(1 1) rotate(0) translate(4 77)\">\n",
       "<title>G</title>\n",
       "<polygon fill=\"white\" stroke=\"transparent\" points=\"-4,4 -4,-77 172,-77 172,4 -4,4\"/>\n",
       "<!-- 0 -->\n",
       "<g id=\"node1\" class=\"node\">\n",
       "<title>0</title>\n",
       "<polygon fill=\"#dbdb8d\" stroke=\"transparent\" points=\"107.5,-73 60.5,-73 60.5,-54 107.5,-54 107.5,-73\"/>\n",
       "<text text-anchor=\"middle\" x=\"84\" y=\"-61\" font-family=\"sans\" font-size=\"10.00\">Person</text>\n",
       "</g>\n",
       "<!-- 1 -->\n",
       "<g id=\"node2\" class=\"node\">\n",
       "<title>1</title>\n",
       "<polygon fill=\"#dbdb8d\" stroke=\"transparent\" points=\"168,-46 0,-46 0,-27 168,-27 168,-46\"/>\n",
       "<text text-anchor=\"middle\" x=\"84\" y=\"-34\" font-family=\"sans\" font-size=\"10.00\">Person.name.inflected(nomn, sing)</text>\n",
       "</g>\n",
       "<!-- 0&#45;&gt;1 -->\n",
       "<g id=\"edge1\" class=\"edge\">\n",
       "<title>0&#45;&gt;1</title>\n",
       "<path fill=\"none\" stroke=\"gray\" d=\"M84,-53.76C84,-52.36 84,-50.9 84,-49.45\"/>\n",
       "<polygon fill=\"gray\" stroke=\"gray\" points=\"85.05,-49.11 84,-46.11 82.95,-49.11 85.05,-49.11\"/>\n",
       "</g>\n",
       "<!-- 2 -->\n",
       "<g id=\"node3\" class=\"node\">\n",
       "<title>2</title>\n",
       "<polygon fill=\"#eeeeee\" stroke=\"transparent\" points=\"104.5,-19 63.5,-19 63.5,0 104.5,0 104.5,-19\"/>\n",
       "<text text-anchor=\"middle\" x=\"84\" y=\"-7\" font-family=\"sans\" font-size=\"10.00\">Маня</text>\n",
       "</g>\n",
       "<!-- 1&#45;&gt;2 -->\n",
       "<g id=\"edge2\" class=\"edge\">\n",
       "<title>1&#45;&gt;2</title>\n",
       "<path fill=\"none\" stroke=\"gray\" d=\"M84,-26.76C84,-25.36 84,-23.9 84,-22.45\"/>\n",
       "<polygon fill=\"gray\" stroke=\"gray\" points=\"85.05,-22.11 84,-19.11 82.95,-22.11 85.05,-22.11\"/>\n",
       "</g>\n",
       "</g>\n",
       "</svg>\n"
      ],
      "text/plain": [
       "Graph(nodes=[...], edges=[...])"
      ]
     },
     "metadata": {},
     "output_type": "display_data"
    },
    {
     "data": {
      "text/plain": [
       "Person(\n",
       "    position=None,\n",
       "    name='хрюня',\n",
       "    middle=None,\n",
       "    surname=None\n",
       ")"
      ]
     },
     "metadata": {},
     "output_type": "display_data"
    },
    {
     "data": {
      "image/svg+xml": [
       "<?xml version=\"1.0\" encoding=\"UTF-8\" standalone=\"no\"?>\n",
       "<!DOCTYPE svg PUBLIC \"-//W3C//DTD SVG 1.1//EN\"\n",
       " \"http://www.w3.org/Graphics/SVG/1.1/DTD/svg11.dtd\">\n",
       "<!-- Generated by graphviz version 2.44.0 (20200408.0750)\n",
       " -->\n",
       "<!-- Title: G Pages: 1 -->\n",
       "<svg width=\"176pt\" height=\"81pt\"\n",
       " viewBox=\"0.00 0.00 176.00 81.00\" xmlns=\"http://www.w3.org/2000/svg\" xmlns:xlink=\"http://www.w3.org/1999/xlink\">\n",
       "<g id=\"graph0\" class=\"graph\" transform=\"scale(1 1) rotate(0) translate(4 77)\">\n",
       "<title>G</title>\n",
       "<polygon fill=\"white\" stroke=\"transparent\" points=\"-4,4 -4,-77 172,-77 172,4 -4,4\"/>\n",
       "<!-- 0 -->\n",
       "<g id=\"node1\" class=\"node\">\n",
       "<title>0</title>\n",
       "<polygon fill=\"#dbdb8d\" stroke=\"transparent\" points=\"107.5,-73 60.5,-73 60.5,-54 107.5,-54 107.5,-73\"/>\n",
       "<text text-anchor=\"middle\" x=\"84\" y=\"-61\" font-family=\"sans\" font-size=\"10.00\">Person</text>\n",
       "</g>\n",
       "<!-- 1 -->\n",
       "<g id=\"node2\" class=\"node\">\n",
       "<title>1</title>\n",
       "<polygon fill=\"#dbdb8d\" stroke=\"transparent\" points=\"168,-46 0,-46 0,-27 168,-27 168,-46\"/>\n",
       "<text text-anchor=\"middle\" x=\"84\" y=\"-34\" font-family=\"sans\" font-size=\"10.00\">Person.name.inflected(nomn, sing)</text>\n",
       "</g>\n",
       "<!-- 0&#45;&gt;1 -->\n",
       "<g id=\"edge1\" class=\"edge\">\n",
       "<title>0&#45;&gt;1</title>\n",
       "<path fill=\"none\" stroke=\"gray\" d=\"M84,-53.76C84,-52.36 84,-50.9 84,-49.45\"/>\n",
       "<polygon fill=\"gray\" stroke=\"gray\" points=\"85.05,-49.11 84,-46.11 82.95,-49.11 85.05,-49.11\"/>\n",
       "</g>\n",
       "<!-- 2 -->\n",
       "<g id=\"node3\" class=\"node\">\n",
       "<title>2</title>\n",
       "<polygon fill=\"#eeeeee\" stroke=\"transparent\" points=\"107.5,-19 60.5,-19 60.5,0 107.5,0 107.5,-19\"/>\n",
       "<text text-anchor=\"middle\" x=\"84\" y=\"-7\" font-family=\"sans\" font-size=\"10.00\">Хрюня</text>\n",
       "</g>\n",
       "<!-- 1&#45;&gt;2 -->\n",
       "<g id=\"edge2\" class=\"edge\">\n",
       "<title>1&#45;&gt;2</title>\n",
       "<path fill=\"none\" stroke=\"gray\" d=\"M84,-26.76C84,-25.36 84,-23.9 84,-22.45\"/>\n",
       "<polygon fill=\"gray\" stroke=\"gray\" points=\"85.05,-22.11 84,-19.11 82.95,-22.11 85.05,-22.11\"/>\n",
       "</g>\n",
       "</g>\n",
       "</svg>\n"
      ],
      "text/plain": [
       "Graph(nodes=[...], edges=[...])"
      ]
     },
     "metadata": {},
     "output_type": "display_data"
    },
    {
     "data": {
      "text/plain": [
       "Person(\n",
       "    position=None,\n",
       "    name='рекс',\n",
       "    middle=None,\n",
       "    surname=None\n",
       ")"
      ]
     },
     "metadata": {},
     "output_type": "display_data"
    },
    {
     "data": {
      "image/svg+xml": [
       "<?xml version=\"1.0\" encoding=\"UTF-8\" standalone=\"no\"?>\n",
       "<!DOCTYPE svg PUBLIC \"-//W3C//DTD SVG 1.1//EN\"\n",
       " \"http://www.w3.org/Graphics/SVG/1.1/DTD/svg11.dtd\">\n",
       "<!-- Generated by graphviz version 2.44.0 (20200408.0750)\n",
       " -->\n",
       "<!-- Title: G Pages: 1 -->\n",
       "<svg width=\"176pt\" height=\"81pt\"\n",
       " viewBox=\"0.00 0.00 176.00 81.00\" xmlns=\"http://www.w3.org/2000/svg\" xmlns:xlink=\"http://www.w3.org/1999/xlink\">\n",
       "<g id=\"graph0\" class=\"graph\" transform=\"scale(1 1) rotate(0) translate(4 77)\">\n",
       "<title>G</title>\n",
       "<polygon fill=\"white\" stroke=\"transparent\" points=\"-4,4 -4,-77 172,-77 172,4 -4,4\"/>\n",
       "<!-- 0 -->\n",
       "<g id=\"node1\" class=\"node\">\n",
       "<title>0</title>\n",
       "<polygon fill=\"#dbdb8d\" stroke=\"transparent\" points=\"107.5,-73 60.5,-73 60.5,-54 107.5,-54 107.5,-73\"/>\n",
       "<text text-anchor=\"middle\" x=\"84\" y=\"-61\" font-family=\"sans\" font-size=\"10.00\">Person</text>\n",
       "</g>\n",
       "<!-- 1 -->\n",
       "<g id=\"node2\" class=\"node\">\n",
       "<title>1</title>\n",
       "<polygon fill=\"#dbdb8d\" stroke=\"transparent\" points=\"168,-46 0,-46 0,-27 168,-27 168,-46\"/>\n",
       "<text text-anchor=\"middle\" x=\"84\" y=\"-34\" font-family=\"sans\" font-size=\"10.00\">Person.name.inflected(nomn, sing)</text>\n",
       "</g>\n",
       "<!-- 0&#45;&gt;1 -->\n",
       "<g id=\"edge1\" class=\"edge\">\n",
       "<title>0&#45;&gt;1</title>\n",
       "<path fill=\"none\" stroke=\"gray\" d=\"M84,-53.76C84,-52.36 84,-50.9 84,-49.45\"/>\n",
       "<polygon fill=\"gray\" stroke=\"gray\" points=\"85.05,-49.11 84,-46.11 82.95,-49.11 85.05,-49.11\"/>\n",
       "</g>\n",
       "<!-- 2 -->\n",
       "<g id=\"node3\" class=\"node\">\n",
       "<title>2</title>\n",
       "<polygon fill=\"#eeeeee\" stroke=\"transparent\" points=\"103.5,-19 64.5,-19 64.5,0 103.5,0 103.5,-19\"/>\n",
       "<text text-anchor=\"middle\" x=\"84\" y=\"-7\" font-family=\"sans\" font-size=\"10.00\">Рекс</text>\n",
       "</g>\n",
       "<!-- 1&#45;&gt;2 -->\n",
       "<g id=\"edge2\" class=\"edge\">\n",
       "<title>1&#45;&gt;2</title>\n",
       "<path fill=\"none\" stroke=\"gray\" d=\"M84,-26.76C84,-25.36 84,-23.9 84,-22.45\"/>\n",
       "<polygon fill=\"gray\" stroke=\"gray\" points=\"85.05,-22.11 84,-19.11 82.95,-22.11 85.05,-22.11\"/>\n",
       "</g>\n",
       "</g>\n",
       "</svg>\n"
      ],
      "text/plain": [
       "Graph(nodes=[...], edges=[...])"
      ]
     },
     "metadata": {},
     "output_type": "display_data"
    },
    {
     "data": {
      "text/plain": [
       "Person(\n",
       "    position=None,\n",
       "    name='люся',\n",
       "    middle=None,\n",
       "    surname=None\n",
       ")"
      ]
     },
     "metadata": {},
     "output_type": "display_data"
    },
    {
     "data": {
      "image/svg+xml": [
       "<?xml version=\"1.0\" encoding=\"UTF-8\" standalone=\"no\"?>\n",
       "<!DOCTYPE svg PUBLIC \"-//W3C//DTD SVG 1.1//EN\"\n",
       " \"http://www.w3.org/Graphics/SVG/1.1/DTD/svg11.dtd\">\n",
       "<!-- Generated by graphviz version 2.44.0 (20200408.0750)\n",
       " -->\n",
       "<!-- Title: G Pages: 1 -->\n",
       "<svg width=\"176pt\" height=\"81pt\"\n",
       " viewBox=\"0.00 0.00 176.00 81.00\" xmlns=\"http://www.w3.org/2000/svg\" xmlns:xlink=\"http://www.w3.org/1999/xlink\">\n",
       "<g id=\"graph0\" class=\"graph\" transform=\"scale(1 1) rotate(0) translate(4 77)\">\n",
       "<title>G</title>\n",
       "<polygon fill=\"white\" stroke=\"transparent\" points=\"-4,4 -4,-77 172,-77 172,4 -4,4\"/>\n",
       "<!-- 0 -->\n",
       "<g id=\"node1\" class=\"node\">\n",
       "<title>0</title>\n",
       "<polygon fill=\"#dbdb8d\" stroke=\"transparent\" points=\"107.5,-73 60.5,-73 60.5,-54 107.5,-54 107.5,-73\"/>\n",
       "<text text-anchor=\"middle\" x=\"84\" y=\"-61\" font-family=\"sans\" font-size=\"10.00\">Person</text>\n",
       "</g>\n",
       "<!-- 1 -->\n",
       "<g id=\"node2\" class=\"node\">\n",
       "<title>1</title>\n",
       "<polygon fill=\"#dbdb8d\" stroke=\"transparent\" points=\"168,-46 0,-46 0,-27 168,-27 168,-46\"/>\n",
       "<text text-anchor=\"middle\" x=\"84\" y=\"-34\" font-family=\"sans\" font-size=\"10.00\">Person.name.inflected(nomn, sing)</text>\n",
       "</g>\n",
       "<!-- 0&#45;&gt;1 -->\n",
       "<g id=\"edge1\" class=\"edge\">\n",
       "<title>0&#45;&gt;1</title>\n",
       "<path fill=\"none\" stroke=\"gray\" d=\"M84,-53.76C84,-52.36 84,-50.9 84,-49.45\"/>\n",
       "<polygon fill=\"gray\" stroke=\"gray\" points=\"85.05,-49.11 84,-46.11 82.95,-49.11 85.05,-49.11\"/>\n",
       "</g>\n",
       "<!-- 2 -->\n",
       "<g id=\"node3\" class=\"node\">\n",
       "<title>2</title>\n",
       "<polygon fill=\"#eeeeee\" stroke=\"transparent\" points=\"104.5,-19 63.5,-19 63.5,0 104.5,0 104.5,-19\"/>\n",
       "<text text-anchor=\"middle\" x=\"84\" y=\"-7\" font-family=\"sans\" font-size=\"10.00\">Люся</text>\n",
       "</g>\n",
       "<!-- 1&#45;&gt;2 -->\n",
       "<g id=\"edge2\" class=\"edge\">\n",
       "<title>1&#45;&gt;2</title>\n",
       "<path fill=\"none\" stroke=\"gray\" d=\"M84,-26.76C84,-25.36 84,-23.9 84,-22.45\"/>\n",
       "<polygon fill=\"gray\" stroke=\"gray\" points=\"85.05,-22.11 84,-19.11 82.95,-22.11 85.05,-22.11\"/>\n",
       "</g>\n",
       "</g>\n",
       "</svg>\n"
      ],
      "text/plain": [
       "Graph(nodes=[...], edges=[...])"
      ]
     },
     "metadata": {},
     "output_type": "display_data"
    },
    {
     "data": {
      "text/plain": [
       "Person(\n",
       "    position=None,\n",
       "    name='джина',\n",
       "    middle=None,\n",
       "    surname=None\n",
       ")"
      ]
     },
     "metadata": {},
     "output_type": "display_data"
    },
    {
     "data": {
      "image/svg+xml": [
       "<?xml version=\"1.0\" encoding=\"UTF-8\" standalone=\"no\"?>\n",
       "<!DOCTYPE svg PUBLIC \"-//W3C//DTD SVG 1.1//EN\"\n",
       " \"http://www.w3.org/Graphics/SVG/1.1/DTD/svg11.dtd\">\n",
       "<!-- Generated by graphviz version 2.44.0 (20200408.0750)\n",
       " -->\n",
       "<!-- Title: G Pages: 1 -->\n",
       "<svg width=\"176pt\" height=\"81pt\"\n",
       " viewBox=\"0.00 0.00 176.00 81.00\" xmlns=\"http://www.w3.org/2000/svg\" xmlns:xlink=\"http://www.w3.org/1999/xlink\">\n",
       "<g id=\"graph0\" class=\"graph\" transform=\"scale(1 1) rotate(0) translate(4 77)\">\n",
       "<title>G</title>\n",
       "<polygon fill=\"white\" stroke=\"transparent\" points=\"-4,4 -4,-77 172,-77 172,4 -4,4\"/>\n",
       "<!-- 0 -->\n",
       "<g id=\"node1\" class=\"node\">\n",
       "<title>0</title>\n",
       "<polygon fill=\"#dbdb8d\" stroke=\"transparent\" points=\"107.5,-73 60.5,-73 60.5,-54 107.5,-54 107.5,-73\"/>\n",
       "<text text-anchor=\"middle\" x=\"84\" y=\"-61\" font-family=\"sans\" font-size=\"10.00\">Person</text>\n",
       "</g>\n",
       "<!-- 1 -->\n",
       "<g id=\"node2\" class=\"node\">\n",
       "<title>1</title>\n",
       "<polygon fill=\"#dbdb8d\" stroke=\"transparent\" points=\"168,-46 0,-46 0,-27 168,-27 168,-46\"/>\n",
       "<text text-anchor=\"middle\" x=\"84\" y=\"-34\" font-family=\"sans\" font-size=\"10.00\">Person.name.inflected(nomn, sing)</text>\n",
       "</g>\n",
       "<!-- 0&#45;&gt;1 -->\n",
       "<g id=\"edge1\" class=\"edge\">\n",
       "<title>0&#45;&gt;1</title>\n",
       "<path fill=\"none\" stroke=\"gray\" d=\"M84,-53.76C84,-52.36 84,-50.9 84,-49.45\"/>\n",
       "<polygon fill=\"gray\" stroke=\"gray\" points=\"85.05,-49.11 84,-46.11 82.95,-49.11 85.05,-49.11\"/>\n",
       "</g>\n",
       "<!-- 2 -->\n",
       "<g id=\"node3\" class=\"node\">\n",
       "<title>2</title>\n",
       "<polygon fill=\"#eeeeee\" stroke=\"transparent\" points=\"107.5,-19 60.5,-19 60.5,0 107.5,0 107.5,-19\"/>\n",
       "<text text-anchor=\"middle\" x=\"84\" y=\"-7\" font-family=\"sans\" font-size=\"10.00\">Джина</text>\n",
       "</g>\n",
       "<!-- 1&#45;&gt;2 -->\n",
       "<g id=\"edge2\" class=\"edge\">\n",
       "<title>1&#45;&gt;2</title>\n",
       "<path fill=\"none\" stroke=\"gray\" d=\"M84,-26.76C84,-25.36 84,-23.9 84,-22.45\"/>\n",
       "<polygon fill=\"gray\" stroke=\"gray\" points=\"85.05,-22.11 84,-19.11 82.95,-22.11 85.05,-22.11\"/>\n",
       "</g>\n",
       "</g>\n",
       "</svg>\n"
      ],
      "text/plain": [
       "Graph(nodes=[...], edges=[...])"
      ]
     },
     "metadata": {},
     "output_type": "display_data"
    },
    {
     "data": {
      "text/plain": [
       "Person(\n",
       "    position=None,\n",
       "    name='маша',\n",
       "    middle=None,\n",
       "    surname=None\n",
       ")"
      ]
     },
     "metadata": {},
     "output_type": "display_data"
    },
    {
     "data": {
      "image/svg+xml": [
       "<?xml version=\"1.0\" encoding=\"UTF-8\" standalone=\"no\"?>\n",
       "<!DOCTYPE svg PUBLIC \"-//W3C//DTD SVG 1.1//EN\"\n",
       " \"http://www.w3.org/Graphics/SVG/1.1/DTD/svg11.dtd\">\n",
       "<!-- Generated by graphviz version 2.44.0 (20200408.0750)\n",
       " -->\n",
       "<!-- Title: G Pages: 1 -->\n",
       "<svg width=\"176pt\" height=\"81pt\"\n",
       " viewBox=\"0.00 0.00 176.00 81.00\" xmlns=\"http://www.w3.org/2000/svg\" xmlns:xlink=\"http://www.w3.org/1999/xlink\">\n",
       "<g id=\"graph0\" class=\"graph\" transform=\"scale(1 1) rotate(0) translate(4 77)\">\n",
       "<title>G</title>\n",
       "<polygon fill=\"white\" stroke=\"transparent\" points=\"-4,4 -4,-77 172,-77 172,4 -4,4\"/>\n",
       "<!-- 0 -->\n",
       "<g id=\"node1\" class=\"node\">\n",
       "<title>0</title>\n",
       "<polygon fill=\"#dbdb8d\" stroke=\"transparent\" points=\"107.5,-73 60.5,-73 60.5,-54 107.5,-54 107.5,-73\"/>\n",
       "<text text-anchor=\"middle\" x=\"84\" y=\"-61\" font-family=\"sans\" font-size=\"10.00\">Person</text>\n",
       "</g>\n",
       "<!-- 1 -->\n",
       "<g id=\"node2\" class=\"node\">\n",
       "<title>1</title>\n",
       "<polygon fill=\"#dbdb8d\" stroke=\"transparent\" points=\"168,-46 0,-46 0,-27 168,-27 168,-46\"/>\n",
       "<text text-anchor=\"middle\" x=\"84\" y=\"-34\" font-family=\"sans\" font-size=\"10.00\">Person.name.inflected(nomn, sing)</text>\n",
       "</g>\n",
       "<!-- 0&#45;&gt;1 -->\n",
       "<g id=\"edge1\" class=\"edge\">\n",
       "<title>0&#45;&gt;1</title>\n",
       "<path fill=\"none\" stroke=\"gray\" d=\"M84,-53.76C84,-52.36 84,-50.9 84,-49.45\"/>\n",
       "<polygon fill=\"gray\" stroke=\"gray\" points=\"85.05,-49.11 84,-46.11 82.95,-49.11 85.05,-49.11\"/>\n",
       "</g>\n",
       "<!-- 2 -->\n",
       "<g id=\"node3\" class=\"node\">\n",
       "<title>2</title>\n",
       "<polygon fill=\"#eeeeee\" stroke=\"transparent\" points=\"105.5,-19 62.5,-19 62.5,0 105.5,0 105.5,-19\"/>\n",
       "<text text-anchor=\"middle\" x=\"84\" y=\"-7\" font-family=\"sans\" font-size=\"10.00\">Маша</text>\n",
       "</g>\n",
       "<!-- 1&#45;&gt;2 -->\n",
       "<g id=\"edge2\" class=\"edge\">\n",
       "<title>1&#45;&gt;2</title>\n",
       "<path fill=\"none\" stroke=\"gray\" d=\"M84,-26.76C84,-25.36 84,-23.9 84,-22.45\"/>\n",
       "<polygon fill=\"gray\" stroke=\"gray\" points=\"85.05,-22.11 84,-19.11 82.95,-22.11 85.05,-22.11\"/>\n",
       "</g>\n",
       "</g>\n",
       "</svg>\n"
      ],
      "text/plain": [
       "Graph(nodes=[...], edges=[...])"
      ]
     },
     "metadata": {},
     "output_type": "display_data"
    },
    {
     "data": {
      "text/plain": [
       "Person(\n",
       "    position='кот',\n",
       "    name='кипиш',\n",
       "    middle=None,\n",
       "    surname=None\n",
       ")"
      ]
     },
     "metadata": {},
     "output_type": "display_data"
    },
    {
     "data": {
      "image/svg+xml": [
       "<?xml version=\"1.0\" encoding=\"UTF-8\" standalone=\"no\"?>\n",
       "<!DOCTYPE svg PUBLIC \"-//W3C//DTD SVG 1.1//EN\"\n",
       " \"http://www.w3.org/Graphics/SVG/1.1/DTD/svg11.dtd\">\n",
       "<!-- Generated by graphviz version 2.44.0 (20200408.0750)\n",
       " -->\n",
       "<!-- Title: G Pages: 1 -->\n",
       "<svg width=\"291pt\" height=\"108pt\"\n",
       " viewBox=\"0.00 0.00 291.00 108.00\" xmlns=\"http://www.w3.org/2000/svg\" xmlns:xlink=\"http://www.w3.org/1999/xlink\">\n",
       "<g id=\"graph0\" class=\"graph\" transform=\"scale(1 1) rotate(0) translate(4 104)\">\n",
       "<title>G</title>\n",
       "<polygon fill=\"white\" stroke=\"transparent\" points=\"-4,4 -4,-104 287,-104 287,4 -4,4\"/>\n",
       "<!-- 0 -->\n",
       "<g id=\"node1\" class=\"node\">\n",
       "<title>0</title>\n",
       "<polygon fill=\"#dbdb8d\" stroke=\"transparent\" points=\"169.5,-100 122.5,-100 122.5,-81 169.5,-81 169.5,-100\"/>\n",
       "<text text-anchor=\"middle\" x=\"146\" y=\"-88\" font-family=\"sans\" font-size=\"10.00\">Person</text>\n",
       "</g>\n",
       "<!-- 1 -->\n",
       "<g id=\"node2\" class=\"node\">\n",
       "<title>1</title>\n",
       "<polygon fill=\"#aec7e8\" stroke=\"transparent\" points=\"110.5,-73 81.5,-73 81.5,-54 110.5,-54 110.5,-73\"/>\n",
       "<text text-anchor=\"middle\" x=\"96\" y=\"-61\" font-family=\"sans\" font-size=\"10.00\">R1</text>\n",
       "</g>\n",
       "<!-- 0&#45;&gt;1 -->\n",
       "<g id=\"edge1\" class=\"edge\">\n",
       "<title>0&#45;&gt;1</title>\n",
       "<path fill=\"none\" stroke=\"gray\" d=\"M128.79,-80.9C123.84,-78.42 118.42,-75.71 113.45,-73.23\"/>\n",
       "<polygon fill=\"gray\" stroke=\"gray\" points=\"113.89,-72.27 110.74,-71.87 112.95,-74.15 113.89,-72.27\"/>\n",
       "</g>\n",
       "<!-- 4 -->\n",
       "<g id=\"node5\" class=\"node\">\n",
       "<title>4</title>\n",
       "<polygon fill=\"#dbdb8d\" stroke=\"transparent\" points=\"283,-73 115,-73 115,-54 283,-54 283,-73\"/>\n",
       "<text text-anchor=\"middle\" x=\"199\" y=\"-61\" font-family=\"sans\" font-size=\"10.00\">Person.name.inflected(nomn, sing)</text>\n",
       "</g>\n",
       "<!-- 0&#45;&gt;4 -->\n",
       "<g id=\"edge2\" class=\"edge\">\n",
       "<title>0&#45;&gt;4</title>\n",
       "<path fill=\"none\" stroke=\"gray\" d=\"M164.24,-80.9C168.7,-78.79 173.51,-76.52 178.09,-74.36\"/>\n",
       "<polygon fill=\"gray\" stroke=\"gray\" points=\"178.64,-75.26 180.91,-73.03 177.75,-73.37 178.64,-75.26\"/>\n",
       "</g>\n",
       "<!-- 2 -->\n",
       "<g id=\"node3\" class=\"node\">\n",
       "<title>2</title>\n",
       "<polygon fill=\"#dbdb8d\" stroke=\"transparent\" points=\"178,-46 0,-46 0,-27 178,-27 178,-46\"/>\n",
       "<text text-anchor=\"middle\" x=\"89\" y=\"-34\" font-family=\"sans\" font-size=\"10.00\">Person.position.inflected(nomn, sing)</text>\n",
       "</g>\n",
       "<!-- 1&#45;&gt;2 -->\n",
       "<g id=\"edge3\" class=\"edge\">\n",
       "<title>1&#45;&gt;2</title>\n",
       "<path fill=\"none\" stroke=\"gray\" d=\"M93.55,-53.76C93.16,-52.36 92.75,-50.9 92.35,-49.45\"/>\n",
       "<polygon fill=\"gray\" stroke=\"gray\" points=\"93.23,-48.72 91.41,-46.11 91.21,-49.28 93.23,-48.72\"/>\n",
       "</g>\n",
       "<!-- 3 -->\n",
       "<g id=\"node4\" class=\"node\">\n",
       "<title>3</title>\n",
       "<polygon fill=\"#eeeeee\" stroke=\"transparent\" points=\"105,-19 73,-19 73,0 105,0 105,-19\"/>\n",
       "<text text-anchor=\"middle\" x=\"89\" y=\"-7\" font-family=\"sans\" font-size=\"10.00\">кот</text>\n",
       "</g>\n",
       "<!-- 2&#45;&gt;3 -->\n",
       "<g id=\"edge4\" class=\"edge\">\n",
       "<title>2&#45;&gt;3</title>\n",
       "<path fill=\"none\" stroke=\"gray\" d=\"M89,-26.76C89,-25.36 89,-23.9 89,-22.45\"/>\n",
       "<polygon fill=\"gray\" stroke=\"gray\" points=\"90.05,-22.11 89,-19.11 87.95,-22.11 90.05,-22.11\"/>\n",
       "</g>\n",
       "<!-- 5 -->\n",
       "<g id=\"node6\" class=\"node\">\n",
       "<title>5</title>\n",
       "<polygon fill=\"#eeeeee\" stroke=\"transparent\" points=\"227,-46 179,-46 179,-27 227,-27 227,-46\"/>\n",
       "<text text-anchor=\"middle\" x=\"203\" y=\"-34\" font-family=\"sans\" font-size=\"10.00\">Кипиш</text>\n",
       "</g>\n",
       "<!-- 4&#45;&gt;5 -->\n",
       "<g id=\"edge5\" class=\"edge\">\n",
       "<title>4&#45;&gt;5</title>\n",
       "<path fill=\"none\" stroke=\"gray\" d=\"M200.4,-53.76C200.62,-52.36 200.86,-50.9 201.09,-49.45\"/>\n",
       "<polygon fill=\"gray\" stroke=\"gray\" points=\"202.18,-49.24 201.62,-46.11 200.11,-48.91 202.18,-49.24\"/>\n",
       "</g>\n",
       "</g>\n",
       "</svg>\n"
      ],
      "text/plain": [
       "Graph(nodes=[...], edges=[...])"
      ]
     },
     "metadata": {},
     "output_type": "display_data"
    },
    {
     "data": {
      "text/plain": [
       "Person(\n",
       "    position=None,\n",
       "    name='кипиш',\n",
       "    middle=None,\n",
       "    surname=None\n",
       ")"
      ]
     },
     "metadata": {},
     "output_type": "display_data"
    },
    {
     "data": {
      "image/svg+xml": [
       "<?xml version=\"1.0\" encoding=\"UTF-8\" standalone=\"no\"?>\n",
       "<!DOCTYPE svg PUBLIC \"-//W3C//DTD SVG 1.1//EN\"\n",
       " \"http://www.w3.org/Graphics/SVG/1.1/DTD/svg11.dtd\">\n",
       "<!-- Generated by graphviz version 2.44.0 (20200408.0750)\n",
       " -->\n",
       "<!-- Title: G Pages: 1 -->\n",
       "<svg width=\"176pt\" height=\"81pt\"\n",
       " viewBox=\"0.00 0.00 176.00 81.00\" xmlns=\"http://www.w3.org/2000/svg\" xmlns:xlink=\"http://www.w3.org/1999/xlink\">\n",
       "<g id=\"graph0\" class=\"graph\" transform=\"scale(1 1) rotate(0) translate(4 77)\">\n",
       "<title>G</title>\n",
       "<polygon fill=\"white\" stroke=\"transparent\" points=\"-4,4 -4,-77 172,-77 172,4 -4,4\"/>\n",
       "<!-- 0 -->\n",
       "<g id=\"node1\" class=\"node\">\n",
       "<title>0</title>\n",
       "<polygon fill=\"#dbdb8d\" stroke=\"transparent\" points=\"107.5,-73 60.5,-73 60.5,-54 107.5,-54 107.5,-73\"/>\n",
       "<text text-anchor=\"middle\" x=\"84\" y=\"-61\" font-family=\"sans\" font-size=\"10.00\">Person</text>\n",
       "</g>\n",
       "<!-- 1 -->\n",
       "<g id=\"node2\" class=\"node\">\n",
       "<title>1</title>\n",
       "<polygon fill=\"#dbdb8d\" stroke=\"transparent\" points=\"168,-46 0,-46 0,-27 168,-27 168,-46\"/>\n",
       "<text text-anchor=\"middle\" x=\"84\" y=\"-34\" font-family=\"sans\" font-size=\"10.00\">Person.name.inflected(nomn, sing)</text>\n",
       "</g>\n",
       "<!-- 0&#45;&gt;1 -->\n",
       "<g id=\"edge1\" class=\"edge\">\n",
       "<title>0&#45;&gt;1</title>\n",
       "<path fill=\"none\" stroke=\"gray\" d=\"M84,-53.76C84,-52.36 84,-50.9 84,-49.45\"/>\n",
       "<polygon fill=\"gray\" stroke=\"gray\" points=\"85.05,-49.11 84,-46.11 82.95,-49.11 85.05,-49.11\"/>\n",
       "</g>\n",
       "<!-- 2 -->\n",
       "<g id=\"node3\" class=\"node\">\n",
       "<title>2</title>\n",
       "<polygon fill=\"#eeeeee\" stroke=\"transparent\" points=\"108,-19 60,-19 60,0 108,0 108,-19\"/>\n",
       "<text text-anchor=\"middle\" x=\"84\" y=\"-7\" font-family=\"sans\" font-size=\"10.00\">Кипиш</text>\n",
       "</g>\n",
       "<!-- 1&#45;&gt;2 -->\n",
       "<g id=\"edge2\" class=\"edge\">\n",
       "<title>1&#45;&gt;2</title>\n",
       "<path fill=\"none\" stroke=\"gray\" d=\"M84,-26.76C84,-25.36 84,-23.9 84,-22.45\"/>\n",
       "<polygon fill=\"gray\" stroke=\"gray\" points=\"85.05,-22.11 84,-19.11 82.95,-22.11 85.05,-22.11\"/>\n",
       "</g>\n",
       "</g>\n",
       "</svg>\n"
      ],
      "text/plain": [
       "Graph(nodes=[...], edges=[...])"
      ]
     },
     "metadata": {},
     "output_type": "display_data"
    },
    {
     "data": {
      "text/plain": [
       "Person(\n",
       "    position=None,\n",
       "    name='кипишущий',\n",
       "    middle=None,\n",
       "    surname=None\n",
       ")"
      ]
     },
     "metadata": {},
     "output_type": "display_data"
    },
    {
     "data": {
      "image/svg+xml": [
       "<?xml version=\"1.0\" encoding=\"UTF-8\" standalone=\"no\"?>\n",
       "<!DOCTYPE svg PUBLIC \"-//W3C//DTD SVG 1.1//EN\"\n",
       " \"http://www.w3.org/Graphics/SVG/1.1/DTD/svg11.dtd\">\n",
       "<!-- Generated by graphviz version 2.44.0 (20200408.0750)\n",
       " -->\n",
       "<!-- Title: G Pages: 1 -->\n",
       "<svg width=\"176pt\" height=\"81pt\"\n",
       " viewBox=\"0.00 0.00 176.00 81.00\" xmlns=\"http://www.w3.org/2000/svg\" xmlns:xlink=\"http://www.w3.org/1999/xlink\">\n",
       "<g id=\"graph0\" class=\"graph\" transform=\"scale(1 1) rotate(0) translate(4 77)\">\n",
       "<title>G</title>\n",
       "<polygon fill=\"white\" stroke=\"transparent\" points=\"-4,4 -4,-77 172,-77 172,4 -4,4\"/>\n",
       "<!-- 0 -->\n",
       "<g id=\"node1\" class=\"node\">\n",
       "<title>0</title>\n",
       "<polygon fill=\"#dbdb8d\" stroke=\"transparent\" points=\"107.5,-73 60.5,-73 60.5,-54 107.5,-54 107.5,-73\"/>\n",
       "<text text-anchor=\"middle\" x=\"84\" y=\"-61\" font-family=\"sans\" font-size=\"10.00\">Person</text>\n",
       "</g>\n",
       "<!-- 1 -->\n",
       "<g id=\"node2\" class=\"node\">\n",
       "<title>1</title>\n",
       "<polygon fill=\"#dbdb8d\" stroke=\"transparent\" points=\"168,-46 0,-46 0,-27 168,-27 168,-46\"/>\n",
       "<text text-anchor=\"middle\" x=\"84\" y=\"-34\" font-family=\"sans\" font-size=\"10.00\">Person.name.inflected(nomn, sing)</text>\n",
       "</g>\n",
       "<!-- 0&#45;&gt;1 -->\n",
       "<g id=\"edge1\" class=\"edge\">\n",
       "<title>0&#45;&gt;1</title>\n",
       "<path fill=\"none\" stroke=\"gray\" d=\"M84,-53.76C84,-52.36 84,-50.9 84,-49.45\"/>\n",
       "<polygon fill=\"gray\" stroke=\"gray\" points=\"85.05,-49.11 84,-46.11 82.95,-49.11 85.05,-49.11\"/>\n",
       "</g>\n",
       "<!-- 2 -->\n",
       "<g id=\"node3\" class=\"node\">\n",
       "<title>2</title>\n",
       "<polygon fill=\"#eeeeee\" stroke=\"transparent\" points=\"110.5,-19 57.5,-19 57.5,0 110.5,0 110.5,-19\"/>\n",
       "<text text-anchor=\"middle\" x=\"84\" y=\"-7\" font-family=\"sans\" font-size=\"10.00\">Кипиша</text>\n",
       "</g>\n",
       "<!-- 1&#45;&gt;2 -->\n",
       "<g id=\"edge2\" class=\"edge\">\n",
       "<title>1&#45;&gt;2</title>\n",
       "<path fill=\"none\" stroke=\"gray\" d=\"M84,-26.76C84,-25.36 84,-23.9 84,-22.45\"/>\n",
       "<polygon fill=\"gray\" stroke=\"gray\" points=\"85.05,-22.11 84,-19.11 82.95,-22.11 85.05,-22.11\"/>\n",
       "</g>\n",
       "</g>\n",
       "</svg>\n"
      ],
      "text/plain": [
       "Graph(nodes=[...], edges=[...])"
      ]
     },
     "metadata": {},
     "output_type": "display_data"
    }
   ],
   "source": [
    "Person = fact(\n",
    "    'Person',\n",
    "    ['position', 'name', 'middle', 'surname']\n",
    ")\n",
    "\n",
    "\n",
    "POSITION = morph_pipeline([  #должность видит только непосредственно перед именем без разрыва\n",
    "    'премьер министр',\n",
    "    'директор',\n",
    "    'президент',\n",
    "    'кот',       # пусть кот\\пес будет как бы должностью для наших целей\n",
    "    'пес',\n",
    "    'котик',\n",
    "    'лабрадор',\n",
    "    'спикер'\n",
    "             \n",
    "])\n",
    "\n",
    "\n",
    "ABBR = gram('Abbr') \n",
    "# без ограничения на сокращения однобуквенные предлоги в нач. предлож. (т.е. capitalized) считает инициалами\n",
    "\n",
    "NAME = rule(and_(gram('Name'), not_(ABBR), is_capitalized()))\n",
    "MID = rule(and_(gram('Patr'), not_(ABBR), is_capitalized()))\n",
    "SURN = rule(and_(gram('Surn'), not_(ABBR), is_capitalized()))\n",
    "\n",
    "PERSON1 = rule(\n",
    "    POSITION.interpretation(Person.position.inflected()).repeatable().optional(),\n",
    "    NAME.interpretation(Person.name.inflected()), \n",
    "    MID.interpretation(Person.middle.inflected()).repeatable().optional(),\n",
    "    SURN.interpretation(Person.surname.inflected()).repeatable().optional()).interpretation(Person)\n",
    "\n",
    "# парсер с этим правилом ⬆︎ должен вытащить все, что сочтет именами, +\\- positions +\\- отчества +\\- фамилиии\n",
    "\n",
    "parser1 = Parser(PERSON1)\n",
    "\n",
    "\n",
    "for match in parser1.findall(text): \n",
    "    display(match.fact)\n",
    "    display(match.tree.as_dot)\n",
    "    \n",
    "# у парсера два метода: match и findall, match смотрит, равна ли вся строка правилу"
   ]
  },
  {
   "cell_type": "markdown",
   "metadata": {},
   "source": [
    "⬆︎ Нашел все имена, но посчитал именем название клиники (Ветлайн), а 'Кипиш' в Gen посчитал деепричастием. То есть получилось, что во фразе \"...спасение маленькой, хрупкой жизни Кипиша\" - \"кипишА\" - это оттенок действия :) Это согласуется с результатом морфологической разметки:\n",
    "\n",
    "MorphToken(\n",
    "     value='Кипиша',\n",
    "     span=[2557, 2563),\n",
    "     type='RU',\n",
    "     forms=[Form('киписать', Grams(GRND,impf,pres,tran)),\n",
    "      Form('кипиш', Grams(NOUN,Name,anim,gent,masc,sing)),\n",
    "      Form('кипиш', Grams(NOUN,Name,accs,anim,masc,sing))]\n",
    "\n",
    "Но не очень согласуется с реальностью.\n",
    "\n",
    "В документации Yargy упоминается функция activate, которая позволяет указать только на те сущности, в разборе которых есть определенные грамемы. Теоретически можно было бы использовать ее в обратной задаче: исключить сущности с грамемой GRND, но я не нашла примеров такого использования, кроме того, даже для первоначальной задачи функция activate у меня не сработала (библиотека ее не находит, возможно, она была исключена)."
   ]
  },
  {
   "cell_type": "code",
   "execution_count": 18,
   "metadata": {},
   "outputs": [
    {
     "data": {
      "text/plain": [
       "Person(\n",
       "    position=None,\n",
       "    name=None,\n",
       "    middle=None,\n",
       "    surname='пермяк'\n",
       ")"
      ]
     },
     "metadata": {},
     "output_type": "display_data"
    },
    {
     "data": {
      "image/svg+xml": [
       "<?xml version=\"1.0\" encoding=\"UTF-8\" standalone=\"no\"?>\n",
       "<!DOCTYPE svg PUBLIC \"-//W3C//DTD SVG 1.1//EN\"\n",
       " \"http://www.w3.org/Graphics/SVG/1.1/DTD/svg11.dtd\">\n",
       "<!-- Generated by graphviz version 2.44.0 (20200408.0750)\n",
       " -->\n",
       "<!-- Title: G Pages: 1 -->\n",
       "<svg width=\"190pt\" height=\"81pt\"\n",
       " viewBox=\"0.00 0.00 190.00 81.00\" xmlns=\"http://www.w3.org/2000/svg\" xmlns:xlink=\"http://www.w3.org/1999/xlink\">\n",
       "<g id=\"graph0\" class=\"graph\" transform=\"scale(1 1) rotate(0) translate(4 77)\">\n",
       "<title>G</title>\n",
       "<polygon fill=\"white\" stroke=\"transparent\" points=\"-4,4 -4,-77 186,-77 186,4 -4,4\"/>\n",
       "<!-- 0 -->\n",
       "<g id=\"node1\" class=\"node\">\n",
       "<title>0</title>\n",
       "<polygon fill=\"#dbdb8d\" stroke=\"transparent\" points=\"114.5,-73 67.5,-73 67.5,-54 114.5,-54 114.5,-73\"/>\n",
       "<text text-anchor=\"middle\" x=\"91\" y=\"-61\" font-family=\"sans\" font-size=\"10.00\">Person</text>\n",
       "</g>\n",
       "<!-- 1 -->\n",
       "<g id=\"node2\" class=\"node\">\n",
       "<title>1</title>\n",
       "<polygon fill=\"#dbdb8d\" stroke=\"transparent\" points=\"182,-46 0,-46 0,-27 182,-27 182,-46\"/>\n",
       "<text text-anchor=\"middle\" x=\"91\" y=\"-34\" font-family=\"sans\" font-size=\"10.00\">Person.surname.inflected(nomn, sing)</text>\n",
       "</g>\n",
       "<!-- 0&#45;&gt;1 -->\n",
       "<g id=\"edge1\" class=\"edge\">\n",
       "<title>0&#45;&gt;1</title>\n",
       "<path fill=\"none\" stroke=\"gray\" d=\"M91,-53.76C91,-52.36 91,-50.9 91,-49.45\"/>\n",
       "<polygon fill=\"gray\" stroke=\"gray\" points=\"92.05,-49.11 91,-46.11 89.95,-49.11 92.05,-49.11\"/>\n",
       "</g>\n",
       "<!-- 2 -->\n",
       "<g id=\"node3\" class=\"node\">\n",
       "<title>2</title>\n",
       "<polygon fill=\"#eeeeee\" stroke=\"transparent\" points=\"122,-19 60,-19 60,0 122,0 122,-19\"/>\n",
       "<text text-anchor=\"middle\" x=\"91\" y=\"-7\" font-family=\"sans\" font-size=\"10.00\">Пермяков</text>\n",
       "</g>\n",
       "<!-- 1&#45;&gt;2 -->\n",
       "<g id=\"edge2\" class=\"edge\">\n",
       "<title>1&#45;&gt;2</title>\n",
       "<path fill=\"none\" stroke=\"gray\" d=\"M91,-26.76C91,-25.36 91,-23.9 91,-22.45\"/>\n",
       "<polygon fill=\"gray\" stroke=\"gray\" points=\"92.05,-22.11 91,-19.11 89.95,-22.11 92.05,-22.11\"/>\n",
       "</g>\n",
       "</g>\n",
       "</svg>\n"
      ],
      "text/plain": [
       "Graph(nodes=[...], edges=[...])"
      ]
     },
     "metadata": {},
     "output_type": "display_data"
    }
   ],
   "source": [
    "PERSON2 = rule(\n",
    "    POSITION.interpretation(Person.position.inflected()).repeatable().optional(),\n",
    "    SURN.interpretation(Person.surname.inflected())).interpretation(Person)\n",
    "\n",
    "# парсер с этим правилом ⬆︎ должен вытащить все фамилии +\\- должности \n",
    "# но если между должностью и фамилией есть имя, то не найдет\n",
    "\n",
    "\n",
    "parser2 = Parser(PERSON2)\n",
    "\n",
    "\n",
    "for match in parser2.findall(text):\n",
    "    display(match.fact)\n",
    "    display(match.tree.as_dot)\n",
    "\n",
    "# у парсера два метода: match и findall, match смотрит, равна ли вся строка правилу"
   ]
  },
  {
   "cell_type": "markdown",
   "metadata": {},
   "source": [
    "В нашем случае находит не то, что нужно.\n",
    "\n",
    "Для моих задач фамилии сами по себе мне не нужны, но есть предположение, что имена животных могут вытаскиваться с помощью этой функции, т.к. фамилии бывают омографами имен нарицательных и еще животных часто называют по фамилии известных людей. Например, в словаре Natasha среди фамилий есть \"Кипиш\". \n",
    "\n",
    "Проверим это на искусственной концентрированной строке."
   ]
  },
  {
   "cell_type": "code",
   "execution_count": 28,
   "metadata": {},
   "outputs": [],
   "source": [
    "text_test = '''\n",
    "Олечка, Кирюша, Олима и Зарина нашли кота Кадета и лабрадора Зощенко и отнесли их слесарю Петрову и его жене \n",
    "Надежде Павловне, а они отдали их спикеру Дмитрию Пескову и президенту Владимиру Путину. \n",
    "Иван Олегович Кадигроб сказал, что это большое событие. И все это благодаря помощи добрых Пермяков.'''"
   ]
  },
  {
   "cell_type": "code",
   "execution_count": 29,
   "metadata": {},
   "outputs": [
    {
     "data": {
      "text/plain": [
       "Person(\n",
       "    position=None,\n",
       "    name='олечка',\n",
       "    middle=None,\n",
       "    surname=None\n",
       ")"
      ]
     },
     "metadata": {},
     "output_type": "display_data"
    },
    {
     "data": {
      "image/svg+xml": [
       "<?xml version=\"1.0\" encoding=\"UTF-8\" standalone=\"no\"?>\n",
       "<!DOCTYPE svg PUBLIC \"-//W3C//DTD SVG 1.1//EN\"\n",
       " \"http://www.w3.org/Graphics/SVG/1.1/DTD/svg11.dtd\">\n",
       "<!-- Generated by graphviz version 2.44.0 (20200408.0750)\n",
       " -->\n",
       "<!-- Title: G Pages: 1 -->\n",
       "<svg width=\"176pt\" height=\"81pt\"\n",
       " viewBox=\"0.00 0.00 176.00 81.00\" xmlns=\"http://www.w3.org/2000/svg\" xmlns:xlink=\"http://www.w3.org/1999/xlink\">\n",
       "<g id=\"graph0\" class=\"graph\" transform=\"scale(1 1) rotate(0) translate(4 77)\">\n",
       "<title>G</title>\n",
       "<polygon fill=\"white\" stroke=\"transparent\" points=\"-4,4 -4,-77 172,-77 172,4 -4,4\"/>\n",
       "<!-- 0 -->\n",
       "<g id=\"node1\" class=\"node\">\n",
       "<title>0</title>\n",
       "<polygon fill=\"#dbdb8d\" stroke=\"transparent\" points=\"107.5,-73 60.5,-73 60.5,-54 107.5,-54 107.5,-73\"/>\n",
       "<text text-anchor=\"middle\" x=\"84\" y=\"-61\" font-family=\"sans\" font-size=\"10.00\">Person</text>\n",
       "</g>\n",
       "<!-- 1 -->\n",
       "<g id=\"node2\" class=\"node\">\n",
       "<title>1</title>\n",
       "<polygon fill=\"#dbdb8d\" stroke=\"transparent\" points=\"168,-46 0,-46 0,-27 168,-27 168,-46\"/>\n",
       "<text text-anchor=\"middle\" x=\"84\" y=\"-34\" font-family=\"sans\" font-size=\"10.00\">Person.name.inflected(nomn, sing)</text>\n",
       "</g>\n",
       "<!-- 0&#45;&gt;1 -->\n",
       "<g id=\"edge1\" class=\"edge\">\n",
       "<title>0&#45;&gt;1</title>\n",
       "<path fill=\"none\" stroke=\"gray\" d=\"M84,-53.76C84,-52.36 84,-50.9 84,-49.45\"/>\n",
       "<polygon fill=\"gray\" stroke=\"gray\" points=\"85.05,-49.11 84,-46.11 82.95,-49.11 85.05,-49.11\"/>\n",
       "</g>\n",
       "<!-- 2 -->\n",
       "<g id=\"node3\" class=\"node\">\n",
       "<title>2</title>\n",
       "<polygon fill=\"#eeeeee\" stroke=\"transparent\" points=\"109.5,-19 58.5,-19 58.5,0 109.5,0 109.5,-19\"/>\n",
       "<text text-anchor=\"middle\" x=\"84\" y=\"-7\" font-family=\"sans\" font-size=\"10.00\">Олечка</text>\n",
       "</g>\n",
       "<!-- 1&#45;&gt;2 -->\n",
       "<g id=\"edge2\" class=\"edge\">\n",
       "<title>1&#45;&gt;2</title>\n",
       "<path fill=\"none\" stroke=\"gray\" d=\"M84,-26.76C84,-25.36 84,-23.9 84,-22.45\"/>\n",
       "<polygon fill=\"gray\" stroke=\"gray\" points=\"85.05,-22.11 84,-19.11 82.95,-22.11 85.05,-22.11\"/>\n",
       "</g>\n",
       "</g>\n",
       "</svg>\n"
      ],
      "text/plain": [
       "Graph(nodes=[...], edges=[...])"
      ]
     },
     "metadata": {},
     "output_type": "display_data"
    },
    {
     "data": {
      "text/plain": [
       "Person(\n",
       "    position=None,\n",
       "    name='зарина',\n",
       "    middle=None,\n",
       "    surname=None\n",
       ")"
      ]
     },
     "metadata": {},
     "output_type": "display_data"
    },
    {
     "data": {
      "image/svg+xml": [
       "<?xml version=\"1.0\" encoding=\"UTF-8\" standalone=\"no\"?>\n",
       "<!DOCTYPE svg PUBLIC \"-//W3C//DTD SVG 1.1//EN\"\n",
       " \"http://www.w3.org/Graphics/SVG/1.1/DTD/svg11.dtd\">\n",
       "<!-- Generated by graphviz version 2.44.0 (20200408.0750)\n",
       " -->\n",
       "<!-- Title: G Pages: 1 -->\n",
       "<svg width=\"176pt\" height=\"81pt\"\n",
       " viewBox=\"0.00 0.00 176.00 81.00\" xmlns=\"http://www.w3.org/2000/svg\" xmlns:xlink=\"http://www.w3.org/1999/xlink\">\n",
       "<g id=\"graph0\" class=\"graph\" transform=\"scale(1 1) rotate(0) translate(4 77)\">\n",
       "<title>G</title>\n",
       "<polygon fill=\"white\" stroke=\"transparent\" points=\"-4,4 -4,-77 172,-77 172,4 -4,4\"/>\n",
       "<!-- 0 -->\n",
       "<g id=\"node1\" class=\"node\">\n",
       "<title>0</title>\n",
       "<polygon fill=\"#dbdb8d\" stroke=\"transparent\" points=\"107.5,-73 60.5,-73 60.5,-54 107.5,-54 107.5,-73\"/>\n",
       "<text text-anchor=\"middle\" x=\"84\" y=\"-61\" font-family=\"sans\" font-size=\"10.00\">Person</text>\n",
       "</g>\n",
       "<!-- 1 -->\n",
       "<g id=\"node2\" class=\"node\">\n",
       "<title>1</title>\n",
       "<polygon fill=\"#dbdb8d\" stroke=\"transparent\" points=\"168,-46 0,-46 0,-27 168,-27 168,-46\"/>\n",
       "<text text-anchor=\"middle\" x=\"84\" y=\"-34\" font-family=\"sans\" font-size=\"10.00\">Person.name.inflected(nomn, sing)</text>\n",
       "</g>\n",
       "<!-- 0&#45;&gt;1 -->\n",
       "<g id=\"edge1\" class=\"edge\">\n",
       "<title>0&#45;&gt;1</title>\n",
       "<path fill=\"none\" stroke=\"gray\" d=\"M84,-53.76C84,-52.36 84,-50.9 84,-49.45\"/>\n",
       "<polygon fill=\"gray\" stroke=\"gray\" points=\"85.05,-49.11 84,-46.11 82.95,-49.11 85.05,-49.11\"/>\n",
       "</g>\n",
       "<!-- 2 -->\n",
       "<g id=\"node3\" class=\"node\">\n",
       "<title>2</title>\n",
       "<polygon fill=\"#eeeeee\" stroke=\"transparent\" points=\"109,-19 59,-19 59,0 109,0 109,-19\"/>\n",
       "<text text-anchor=\"middle\" x=\"84\" y=\"-7\" font-family=\"sans\" font-size=\"10.00\">Зарина</text>\n",
       "</g>\n",
       "<!-- 1&#45;&gt;2 -->\n",
       "<g id=\"edge2\" class=\"edge\">\n",
       "<title>1&#45;&gt;2</title>\n",
       "<path fill=\"none\" stroke=\"gray\" d=\"M84,-26.76C84,-25.36 84,-23.9 84,-22.45\"/>\n",
       "<polygon fill=\"gray\" stroke=\"gray\" points=\"85.05,-22.11 84,-19.11 82.95,-22.11 85.05,-22.11\"/>\n",
       "</g>\n",
       "</g>\n",
       "</svg>\n"
      ],
      "text/plain": [
       "Graph(nodes=[...], edges=[...])"
      ]
     },
     "metadata": {},
     "output_type": "display_data"
    },
    {
     "data": {
      "text/plain": [
       "Person(\n",
       "    position=None,\n",
       "    name='надежда',\n",
       "    middle='павловна',\n",
       "    surname=None\n",
       ")"
      ]
     },
     "metadata": {},
     "output_type": "display_data"
    },
    {
     "data": {
      "image/svg+xml": [
       "<?xml version=\"1.0\" encoding=\"UTF-8\" standalone=\"no\"?>\n",
       "<!DOCTYPE svg PUBLIC \"-//W3C//DTD SVG 1.1//EN\"\n",
       " \"http://www.w3.org/Graphics/SVG/1.1/DTD/svg11.dtd\">\n",
       "<!-- Generated by graphviz version 2.44.0 (20200408.0750)\n",
       " -->\n",
       "<!-- Title: G Pages: 1 -->\n",
       "<svg width=\"288pt\" height=\"108pt\"\n",
       " viewBox=\"0.00 0.00 287.50 108.00\" xmlns=\"http://www.w3.org/2000/svg\" xmlns:xlink=\"http://www.w3.org/1999/xlink\">\n",
       "<g id=\"graph0\" class=\"graph\" transform=\"scale(1 1) rotate(0) translate(4 104)\">\n",
       "<title>G</title>\n",
       "<polygon fill=\"white\" stroke=\"transparent\" points=\"-4,4 -4,-104 283.5,-104 283.5,4 -4,4\"/>\n",
       "<!-- 0 -->\n",
       "<g id=\"node1\" class=\"node\">\n",
       "<title>0</title>\n",
       "<polygon fill=\"#dbdb8d\" stroke=\"transparent\" points=\"157.5,-100 110.5,-100 110.5,-81 157.5,-81 157.5,-100\"/>\n",
       "<text text-anchor=\"middle\" x=\"134\" y=\"-88\" font-family=\"sans\" font-size=\"10.00\">Person</text>\n",
       "</g>\n",
       "<!-- 1 -->\n",
       "<g id=\"node2\" class=\"node\">\n",
       "<title>1</title>\n",
       "<polygon fill=\"#dbdb8d\" stroke=\"transparent\" points=\"168,-73 0,-73 0,-54 168,-54 168,-73\"/>\n",
       "<text text-anchor=\"middle\" x=\"84\" y=\"-61\" font-family=\"sans\" font-size=\"10.00\">Person.name.inflected(nomn, sing)</text>\n",
       "</g>\n",
       "<!-- 0&#45;&gt;1 -->\n",
       "<g id=\"edge1\" class=\"edge\">\n",
       "<title>0&#45;&gt;1</title>\n",
       "<path fill=\"none\" stroke=\"gray\" d=\"M116.79,-80.9C112.66,-78.83 108.21,-76.61 103.97,-74.48\"/>\n",
       "<polygon fill=\"gray\" stroke=\"gray\" points=\"104.22,-73.44 101.07,-73.03 103.28,-75.32 104.22,-73.44\"/>\n",
       "</g>\n",
       "<!-- 3 -->\n",
       "<g id=\"node4\" class=\"node\">\n",
       "<title>3</title>\n",
       "<polygon fill=\"#aec7e8\" stroke=\"transparent\" points=\"202.5,-73 173.5,-73 173.5,-54 202.5,-54 202.5,-73\"/>\n",
       "<text text-anchor=\"middle\" x=\"188\" y=\"-61\" font-family=\"sans\" font-size=\"10.00\">R3</text>\n",
       "</g>\n",
       "<!-- 0&#45;&gt;3 -->\n",
       "<g id=\"edge2\" class=\"edge\">\n",
       "<title>0&#45;&gt;3</title>\n",
       "<path fill=\"none\" stroke=\"gray\" d=\"M152.58,-80.9C158.46,-78.18 164.92,-75.19 170.7,-72.51\"/>\n",
       "<polygon fill=\"gray\" stroke=\"gray\" points=\"171.19,-73.44 173.48,-71.22 170.31,-71.53 171.19,-73.44\"/>\n",
       "</g>\n",
       "<!-- 2 -->\n",
       "<g id=\"node3\" class=\"node\">\n",
       "<title>2</title>\n",
       "<polygon fill=\"#eeeeee\" stroke=\"transparent\" points=\"105.5,-46 46.5,-46 46.5,-27 105.5,-27 105.5,-46\"/>\n",
       "<text text-anchor=\"middle\" x=\"76\" y=\"-34\" font-family=\"sans\" font-size=\"10.00\">Надежде</text>\n",
       "</g>\n",
       "<!-- 1&#45;&gt;2 -->\n",
       "<g id=\"edge3\" class=\"edge\">\n",
       "<title>1&#45;&gt;2</title>\n",
       "<path fill=\"none\" stroke=\"gray\" d=\"M81.2,-53.76C80.76,-52.36 80.29,-50.9 79.82,-49.45\"/>\n",
       "<polygon fill=\"gray\" stroke=\"gray\" points=\"80.67,-48.65 78.76,-46.11 78.67,-49.29 80.67,-48.65\"/>\n",
       "</g>\n",
       "<!-- 4 -->\n",
       "<g id=\"node5\" class=\"node\">\n",
       "<title>4</title>\n",
       "<polygon fill=\"#dbdb8d\" stroke=\"transparent\" points=\"279.5,-46 106.5,-46 106.5,-27 279.5,-27 279.5,-46\"/>\n",
       "<text text-anchor=\"middle\" x=\"193\" y=\"-34\" font-family=\"sans\" font-size=\"10.00\">Person.middle.inflected(nomn, sing)</text>\n",
       "</g>\n",
       "<!-- 3&#45;&gt;4 -->\n",
       "<g id=\"edge4\" class=\"edge\">\n",
       "<title>3&#45;&gt;4</title>\n",
       "<path fill=\"none\" stroke=\"gray\" d=\"M189.75,-53.76C190.03,-52.36 190.32,-50.9 190.61,-49.45\"/>\n",
       "<polygon fill=\"gray\" stroke=\"gray\" points=\"191.72,-49.26 191.28,-46.11 189.66,-48.85 191.72,-49.26\"/>\n",
       "</g>\n",
       "<!-- 5 -->\n",
       "<g id=\"node6\" class=\"node\">\n",
       "<title>5</title>\n",
       "<polygon fill=\"#eeeeee\" stroke=\"transparent\" points=\"224,-19 162,-19 162,0 224,0 224,-19\"/>\n",
       "<text text-anchor=\"middle\" x=\"193\" y=\"-7\" font-family=\"sans\" font-size=\"10.00\">Павловне</text>\n",
       "</g>\n",
       "<!-- 4&#45;&gt;5 -->\n",
       "<g id=\"edge5\" class=\"edge\">\n",
       "<title>4&#45;&gt;5</title>\n",
       "<path fill=\"none\" stroke=\"gray\" d=\"M193,-26.76C193,-25.36 193,-23.9 193,-22.45\"/>\n",
       "<polygon fill=\"gray\" stroke=\"gray\" points=\"194.05,-22.11 193,-19.11 191.95,-22.11 194.05,-22.11\"/>\n",
       "</g>\n",
       "</g>\n",
       "</svg>\n"
      ],
      "text/plain": [
       "Graph(nodes=[...], edges=[...])"
      ]
     },
     "metadata": {},
     "output_type": "display_data"
    },
    {
     "data": {
      "text/plain": [
       "Person(\n",
       "    position='спикер',\n",
       "    name='дмитрия',\n",
       "    middle=None,\n",
       "    surname=None\n",
       ")"
      ]
     },
     "metadata": {},
     "output_type": "display_data"
    },
    {
     "data": {
      "image/svg+xml": [
       "<?xml version=\"1.0\" encoding=\"UTF-8\" standalone=\"no\"?>\n",
       "<!DOCTYPE svg PUBLIC \"-//W3C//DTD SVG 1.1//EN\"\n",
       " \"http://www.w3.org/Graphics/SVG/1.1/DTD/svg11.dtd\">\n",
       "<!-- Generated by graphviz version 2.44.0 (20200408.0750)\n",
       " -->\n",
       "<!-- Title: G Pages: 1 -->\n",
       "<svg width=\"296pt\" height=\"108pt\"\n",
       " viewBox=\"0.00 0.00 296.00 108.00\" xmlns=\"http://www.w3.org/2000/svg\" xmlns:xlink=\"http://www.w3.org/1999/xlink\">\n",
       "<g id=\"graph0\" class=\"graph\" transform=\"scale(1 1) rotate(0) translate(4 104)\">\n",
       "<title>G</title>\n",
       "<polygon fill=\"white\" stroke=\"transparent\" points=\"-4,4 -4,-104 292,-104 292,4 -4,4\"/>\n",
       "<!-- 0 -->\n",
       "<g id=\"node1\" class=\"node\">\n",
       "<title>0</title>\n",
       "<polygon fill=\"#dbdb8d\" stroke=\"transparent\" points=\"172.5,-100 125.5,-100 125.5,-81 172.5,-81 172.5,-100\"/>\n",
       "<text text-anchor=\"middle\" x=\"149\" y=\"-88\" font-family=\"sans\" font-size=\"10.00\">Person</text>\n",
       "</g>\n",
       "<!-- 1 -->\n",
       "<g id=\"node2\" class=\"node\">\n",
       "<title>1</title>\n",
       "<polygon fill=\"#aec7e8\" stroke=\"transparent\" points=\"113.5,-73 84.5,-73 84.5,-54 113.5,-54 113.5,-73\"/>\n",
       "<text text-anchor=\"middle\" x=\"99\" y=\"-61\" font-family=\"sans\" font-size=\"10.00\">R1</text>\n",
       "</g>\n",
       "<!-- 0&#45;&gt;1 -->\n",
       "<g id=\"edge1\" class=\"edge\">\n",
       "<title>0&#45;&gt;1</title>\n",
       "<path fill=\"none\" stroke=\"gray\" d=\"M131.79,-80.9C126.84,-78.42 121.42,-75.71 116.45,-73.23\"/>\n",
       "<polygon fill=\"gray\" stroke=\"gray\" points=\"116.89,-72.27 113.74,-71.87 115.95,-74.15 116.89,-72.27\"/>\n",
       "</g>\n",
       "<!-- 4 -->\n",
       "<g id=\"node5\" class=\"node\">\n",
       "<title>4</title>\n",
       "<polygon fill=\"#dbdb8d\" stroke=\"transparent\" points=\"288,-73 120,-73 120,-54 288,-54 288,-73\"/>\n",
       "<text text-anchor=\"middle\" x=\"204\" y=\"-61\" font-family=\"sans\" font-size=\"10.00\">Person.name.inflected(nomn, sing)</text>\n",
       "</g>\n",
       "<!-- 0&#45;&gt;4 -->\n",
       "<g id=\"edge2\" class=\"edge\">\n",
       "<title>0&#45;&gt;4</title>\n",
       "<path fill=\"none\" stroke=\"gray\" d=\"M167.93,-80.9C172.56,-78.79 177.55,-76.52 182.3,-74.36\"/>\n",
       "<polygon fill=\"gray\" stroke=\"gray\" points=\"182.93,-75.23 185.22,-73.03 182.06,-73.32 182.93,-75.23\"/>\n",
       "</g>\n",
       "<!-- 2 -->\n",
       "<g id=\"node3\" class=\"node\">\n",
       "<title>2</title>\n",
       "<polygon fill=\"#dbdb8d\" stroke=\"transparent\" points=\"178,-46 0,-46 0,-27 178,-27 178,-46\"/>\n",
       "<text text-anchor=\"middle\" x=\"89\" y=\"-34\" font-family=\"sans\" font-size=\"10.00\">Person.position.inflected(nomn, sing)</text>\n",
       "</g>\n",
       "<!-- 1&#45;&gt;2 -->\n",
       "<g id=\"edge3\" class=\"edge\">\n",
       "<title>1&#45;&gt;2</title>\n",
       "<path fill=\"none\" stroke=\"gray\" d=\"M95.5,-53.76C94.88,-52.21 94.23,-50.57 93.59,-48.96\"/>\n",
       "<polygon fill=\"gray\" stroke=\"gray\" points=\"94.53,-48.51 92.44,-46.11 92.58,-49.29 94.53,-48.51\"/>\n",
       "</g>\n",
       "<!-- 3 -->\n",
       "<g id=\"node4\" class=\"node\">\n",
       "<title>3</title>\n",
       "<polygon fill=\"#eeeeee\" stroke=\"transparent\" points=\"116,-19 62,-19 62,0 116,0 116,-19\"/>\n",
       "<text text-anchor=\"middle\" x=\"89\" y=\"-7\" font-family=\"sans\" font-size=\"10.00\">спикеру</text>\n",
       "</g>\n",
       "<!-- 2&#45;&gt;3 -->\n",
       "<g id=\"edge4\" class=\"edge\">\n",
       "<title>2&#45;&gt;3</title>\n",
       "<path fill=\"none\" stroke=\"gray\" d=\"M89,-26.76C89,-25.36 89,-23.9 89,-22.45\"/>\n",
       "<polygon fill=\"gray\" stroke=\"gray\" points=\"90.05,-22.11 89,-19.11 87.95,-22.11 90.05,-22.11\"/>\n",
       "</g>\n",
       "<!-- 5 -->\n",
       "<g id=\"node6\" class=\"node\">\n",
       "<title>5</title>\n",
       "<polygon fill=\"#eeeeee\" stroke=\"transparent\" points=\"239,-46 179,-46 179,-27 239,-27 239,-46\"/>\n",
       "<text text-anchor=\"middle\" x=\"209\" y=\"-34\" font-family=\"sans\" font-size=\"10.00\">Дмитрию</text>\n",
       "</g>\n",
       "<!-- 4&#45;&gt;5 -->\n",
       "<g id=\"edge5\" class=\"edge\">\n",
       "<title>4&#45;&gt;5</title>\n",
       "<path fill=\"none\" stroke=\"gray\" d=\"M205.75,-53.76C206.03,-52.36 206.32,-50.9 206.61,-49.45\"/>\n",
       "<polygon fill=\"gray\" stroke=\"gray\" points=\"207.72,-49.26 207.28,-46.11 205.66,-48.85 207.72,-49.26\"/>\n",
       "</g>\n",
       "</g>\n",
       "</svg>\n"
      ],
      "text/plain": [
       "Graph(nodes=[...], edges=[...])"
      ]
     },
     "metadata": {},
     "output_type": "display_data"
    },
    {
     "data": {
      "text/plain": [
       "Person(\n",
       "    position='президент',\n",
       "    name='владимир',\n",
       "    middle=None,\n",
       "    surname=None\n",
       ")"
      ]
     },
     "metadata": {},
     "output_type": "display_data"
    },
    {
     "data": {
      "image/svg+xml": [
       "<?xml version=\"1.0\" encoding=\"UTF-8\" standalone=\"no\"?>\n",
       "<!DOCTYPE svg PUBLIC \"-//W3C//DTD SVG 1.1//EN\"\n",
       " \"http://www.w3.org/Graphics/SVG/1.1/DTD/svg11.dtd\">\n",
       "<!-- Generated by graphviz version 2.44.0 (20200408.0750)\n",
       " -->\n",
       "<!-- Title: G Pages: 1 -->\n",
       "<svg width=\"299pt\" height=\"108pt\"\n",
       " viewBox=\"0.00 0.00 299.00 108.00\" xmlns=\"http://www.w3.org/2000/svg\" xmlns:xlink=\"http://www.w3.org/1999/xlink\">\n",
       "<g id=\"graph0\" class=\"graph\" transform=\"scale(1 1) rotate(0) translate(4 104)\">\n",
       "<title>G</title>\n",
       "<polygon fill=\"white\" stroke=\"transparent\" points=\"-4,4 -4,-104 295,-104 295,4 -4,4\"/>\n",
       "<!-- 0 -->\n",
       "<g id=\"node1\" class=\"node\">\n",
       "<title>0</title>\n",
       "<polygon fill=\"#dbdb8d\" stroke=\"transparent\" points=\"174.5,-100 127.5,-100 127.5,-81 174.5,-81 174.5,-100\"/>\n",
       "<text text-anchor=\"middle\" x=\"151\" y=\"-88\" font-family=\"sans\" font-size=\"10.00\">Person</text>\n",
       "</g>\n",
       "<!-- 1 -->\n",
       "<g id=\"node2\" class=\"node\">\n",
       "<title>1</title>\n",
       "<polygon fill=\"#aec7e8\" stroke=\"transparent\" points=\"115.5,-73 86.5,-73 86.5,-54 115.5,-54 115.5,-73\"/>\n",
       "<text text-anchor=\"middle\" x=\"101\" y=\"-61\" font-family=\"sans\" font-size=\"10.00\">R1</text>\n",
       "</g>\n",
       "<!-- 0&#45;&gt;1 -->\n",
       "<g id=\"edge1\" class=\"edge\">\n",
       "<title>0&#45;&gt;1</title>\n",
       "<path fill=\"none\" stroke=\"gray\" d=\"M133.79,-80.9C128.84,-78.42 123.42,-75.71 118.45,-73.23\"/>\n",
       "<polygon fill=\"gray\" stroke=\"gray\" points=\"118.89,-72.27 115.74,-71.87 117.95,-74.15 118.89,-72.27\"/>\n",
       "</g>\n",
       "<!-- 4 -->\n",
       "<g id=\"node5\" class=\"node\">\n",
       "<title>4</title>\n",
       "<polygon fill=\"#dbdb8d\" stroke=\"transparent\" points=\"291,-73 123,-73 123,-54 291,-54 291,-73\"/>\n",
       "<text text-anchor=\"middle\" x=\"207\" y=\"-61\" font-family=\"sans\" font-size=\"10.00\">Person.name.inflected(nomn, sing)</text>\n",
       "</g>\n",
       "<!-- 0&#45;&gt;4 -->\n",
       "<g id=\"edge2\" class=\"edge\">\n",
       "<title>0&#45;&gt;4</title>\n",
       "<path fill=\"none\" stroke=\"gray\" d=\"M170.27,-80.9C174.99,-78.79 180.07,-76.52 184.91,-74.36\"/>\n",
       "<polygon fill=\"gray\" stroke=\"gray\" points=\"185.57,-75.22 187.88,-73.03 184.71,-73.3 185.57,-75.22\"/>\n",
       "</g>\n",
       "<!-- 2 -->\n",
       "<g id=\"node3\" class=\"node\">\n",
       "<title>2</title>\n",
       "<polygon fill=\"#dbdb8d\" stroke=\"transparent\" points=\"178,-46 0,-46 0,-27 178,-27 178,-46\"/>\n",
       "<text text-anchor=\"middle\" x=\"89\" y=\"-34\" font-family=\"sans\" font-size=\"10.00\">Person.position.inflected(nomn, sing)</text>\n",
       "</g>\n",
       "<!-- 1&#45;&gt;2 -->\n",
       "<g id=\"edge3\" class=\"edge\">\n",
       "<title>1&#45;&gt;2</title>\n",
       "<path fill=\"none\" stroke=\"gray\" d=\"M96.8,-53.76C96.06,-52.21 95.28,-50.57 94.5,-48.96\"/>\n",
       "<polygon fill=\"gray\" stroke=\"gray\" points=\"95.38,-48.36 93.13,-46.11 93.49,-49.27 95.38,-48.36\"/>\n",
       "</g>\n",
       "<!-- 3 -->\n",
       "<g id=\"node4\" class=\"node\">\n",
       "<title>3</title>\n",
       "<polygon fill=\"#eeeeee\" stroke=\"transparent\" points=\"124.5,-19 53.5,-19 53.5,0 124.5,0 124.5,-19\"/>\n",
       "<text text-anchor=\"middle\" x=\"89\" y=\"-7\" font-family=\"sans\" font-size=\"10.00\">президенту</text>\n",
       "</g>\n",
       "<!-- 2&#45;&gt;3 -->\n",
       "<g id=\"edge4\" class=\"edge\">\n",
       "<title>2&#45;&gt;3</title>\n",
       "<path fill=\"none\" stroke=\"gray\" d=\"M89,-26.76C89,-25.36 89,-23.9 89,-22.45\"/>\n",
       "<polygon fill=\"gray\" stroke=\"gray\" points=\"90.05,-22.11 89,-19.11 87.95,-22.11 90.05,-22.11\"/>\n",
       "</g>\n",
       "<!-- 5 -->\n",
       "<g id=\"node6\" class=\"node\">\n",
       "<title>5</title>\n",
       "<polygon fill=\"#eeeeee\" stroke=\"transparent\" points=\"249,-46 179,-46 179,-27 249,-27 249,-46\"/>\n",
       "<text text-anchor=\"middle\" x=\"214\" y=\"-34\" font-family=\"sans\" font-size=\"10.00\">Владимиру</text>\n",
       "</g>\n",
       "<!-- 4&#45;&gt;5 -->\n",
       "<g id=\"edge5\" class=\"edge\">\n",
       "<title>4&#45;&gt;5</title>\n",
       "<path fill=\"none\" stroke=\"gray\" d=\"M209.45,-53.76C209.84,-52.36 210.25,-50.9 210.65,-49.45\"/>\n",
       "<polygon fill=\"gray\" stroke=\"gray\" points=\"211.79,-49.28 211.59,-46.11 209.77,-48.72 211.79,-49.28\"/>\n",
       "</g>\n",
       "</g>\n",
       "</svg>\n"
      ],
      "text/plain": [
       "Graph(nodes=[...], edges=[...])"
      ]
     },
     "metadata": {},
     "output_type": "display_data"
    },
    {
     "data": {
      "text/plain": [
       "Person(\n",
       "    position=None,\n",
       "    name='иван',\n",
       "    middle='олегович',\n",
       "    surname=None\n",
       ")"
      ]
     },
     "metadata": {},
     "output_type": "display_data"
    },
    {
     "data": {
      "image/svg+xml": [
       "<?xml version=\"1.0\" encoding=\"UTF-8\" standalone=\"no\"?>\n",
       "<!DOCTYPE svg PUBLIC \"-//W3C//DTD SVG 1.1//EN\"\n",
       " \"http://www.w3.org/Graphics/SVG/1.1/DTD/svg11.dtd\">\n",
       "<!-- Generated by graphviz version 2.44.0 (20200408.0750)\n",
       " -->\n",
       "<!-- Title: G Pages: 1 -->\n",
       "<svg width=\"283pt\" height=\"108pt\"\n",
       " viewBox=\"0.00 0.00 282.50 108.00\" xmlns=\"http://www.w3.org/2000/svg\" xmlns:xlink=\"http://www.w3.org/1999/xlink\">\n",
       "<g id=\"graph0\" class=\"graph\" transform=\"scale(1 1) rotate(0) translate(4 104)\">\n",
       "<title>G</title>\n",
       "<polygon fill=\"white\" stroke=\"transparent\" points=\"-4,4 -4,-104 278.5,-104 278.5,4 -4,4\"/>\n",
       "<!-- 0 -->\n",
       "<g id=\"node1\" class=\"node\">\n",
       "<title>0</title>\n",
       "<polygon fill=\"#dbdb8d\" stroke=\"transparent\" points=\"157.5,-100 110.5,-100 110.5,-81 157.5,-81 157.5,-100\"/>\n",
       "<text text-anchor=\"middle\" x=\"134\" y=\"-88\" font-family=\"sans\" font-size=\"10.00\">Person</text>\n",
       "</g>\n",
       "<!-- 1 -->\n",
       "<g id=\"node2\" class=\"node\">\n",
       "<title>1</title>\n",
       "<polygon fill=\"#dbdb8d\" stroke=\"transparent\" points=\"168,-73 0,-73 0,-54 168,-54 168,-73\"/>\n",
       "<text text-anchor=\"middle\" x=\"84\" y=\"-61\" font-family=\"sans\" font-size=\"10.00\">Person.name.inflected(nomn, sing)</text>\n",
       "</g>\n",
       "<!-- 0&#45;&gt;1 -->\n",
       "<g id=\"edge1\" class=\"edge\">\n",
       "<title>0&#45;&gt;1</title>\n",
       "<path fill=\"none\" stroke=\"gray\" d=\"M116.79,-80.9C112.66,-78.83 108.21,-76.61 103.97,-74.48\"/>\n",
       "<polygon fill=\"gray\" stroke=\"gray\" points=\"104.22,-73.44 101.07,-73.03 103.28,-75.32 104.22,-73.44\"/>\n",
       "</g>\n",
       "<!-- 3 -->\n",
       "<g id=\"node4\" class=\"node\">\n",
       "<title>3</title>\n",
       "<polygon fill=\"#aec7e8\" stroke=\"transparent\" points=\"200.5,-73 171.5,-73 171.5,-54 200.5,-54 200.5,-73\"/>\n",
       "<text text-anchor=\"middle\" x=\"186\" y=\"-61\" font-family=\"sans\" font-size=\"10.00\">R3</text>\n",
       "</g>\n",
       "<!-- 0&#45;&gt;3 -->\n",
       "<g id=\"edge2\" class=\"edge\">\n",
       "<title>0&#45;&gt;3</title>\n",
       "<path fill=\"none\" stroke=\"gray\" d=\"M151.9,-80.9C157.25,-78.32 163.11,-75.5 168.45,-72.94\"/>\n",
       "<polygon fill=\"gray\" stroke=\"gray\" points=\"169.1,-73.79 171.35,-71.54 168.19,-71.9 169.1,-73.79\"/>\n",
       "</g>\n",
       "<!-- 2 -->\n",
       "<g id=\"node3\" class=\"node\">\n",
       "<title>2</title>\n",
       "<polygon fill=\"#eeeeee\" stroke=\"transparent\" points=\"100,-46 60,-46 60,-27 100,-27 100,-46\"/>\n",
       "<text text-anchor=\"middle\" x=\"80\" y=\"-34\" font-family=\"sans\" font-size=\"10.00\">Иван</text>\n",
       "</g>\n",
       "<!-- 1&#45;&gt;2 -->\n",
       "<g id=\"edge3\" class=\"edge\">\n",
       "<title>1&#45;&gt;2</title>\n",
       "<path fill=\"none\" stroke=\"gray\" d=\"M82.6,-53.76C82.38,-52.36 82.14,-50.9 81.91,-49.45\"/>\n",
       "<polygon fill=\"gray\" stroke=\"gray\" points=\"82.89,-48.91 81.38,-46.11 80.82,-49.24 82.89,-48.91\"/>\n",
       "</g>\n",
       "<!-- 4 -->\n",
       "<g id=\"node5\" class=\"node\">\n",
       "<title>4</title>\n",
       "<polygon fill=\"#dbdb8d\" stroke=\"transparent\" points=\"274.5,-46 101.5,-46 101.5,-27 274.5,-27 274.5,-46\"/>\n",
       "<text text-anchor=\"middle\" x=\"188\" y=\"-34\" font-family=\"sans\" font-size=\"10.00\">Person.middle.inflected(nomn, sing)</text>\n",
       "</g>\n",
       "<!-- 3&#45;&gt;4 -->\n",
       "<g id=\"edge4\" class=\"edge\">\n",
       "<title>3&#45;&gt;4</title>\n",
       "<path fill=\"none\" stroke=\"gray\" d=\"M186.7,-53.76C186.81,-52.36 186.93,-50.9 187.04,-49.45\"/>\n",
       "<polygon fill=\"gray\" stroke=\"gray\" points=\"188.12,-49.19 187.31,-46.11 186.03,-49.02 188.12,-49.19\"/>\n",
       "</g>\n",
       "<!-- 5 -->\n",
       "<g id=\"node6\" class=\"node\">\n",
       "<title>5</title>\n",
       "<polygon fill=\"#eeeeee\" stroke=\"transparent\" points=\"218.5,-19 157.5,-19 157.5,0 218.5,0 218.5,-19\"/>\n",
       "<text text-anchor=\"middle\" x=\"188\" y=\"-7\" font-family=\"sans\" font-size=\"10.00\">Олегович</text>\n",
       "</g>\n",
       "<!-- 4&#45;&gt;5 -->\n",
       "<g id=\"edge5\" class=\"edge\">\n",
       "<title>4&#45;&gt;5</title>\n",
       "<path fill=\"none\" stroke=\"gray\" d=\"M188,-26.76C188,-25.36 188,-23.9 188,-22.45\"/>\n",
       "<polygon fill=\"gray\" stroke=\"gray\" points=\"189.05,-22.11 188,-19.11 186.95,-22.11 189.05,-22.11\"/>\n",
       "</g>\n",
       "</g>\n",
       "</svg>\n"
      ],
      "text/plain": [
       "Graph(nodes=[...], edges=[...])"
      ]
     },
     "metadata": {},
     "output_type": "display_data"
    }
   ],
   "source": [
    "for match in parser1.findall(text_test): \n",
    "    display(match.fact)\n",
    "    display(match.tree.as_dot)"
   ]
  },
  {
   "cell_type": "code",
   "execution_count": 30,
   "metadata": {},
   "outputs": [
    {
     "data": {
      "image/svg+xml": [
       "<?xml version=\"1.0\" encoding=\"UTF-8\" standalone=\"no\"?>\n",
       "<!DOCTYPE svg PUBLIC \"-//W3C//DTD SVG 1.1//EN\"\n",
       " \"http://www.w3.org/Graphics/SVG/1.1/DTD/svg11.dtd\">\n",
       "<!-- Generated by graphviz version 2.44.0 (20200408.0750)\n",
       " -->\n",
       "<!-- Title: G Pages: 1 -->\n",
       "<svg width=\"304pt\" height=\"108pt\"\n",
       " viewBox=\"0.00 0.00 304.00 108.00\" xmlns=\"http://www.w3.org/2000/svg\" xmlns:xlink=\"http://www.w3.org/1999/xlink\">\n",
       "<g id=\"graph0\" class=\"graph\" transform=\"scale(1 1) rotate(0) translate(4 104)\">\n",
       "<title>G</title>\n",
       "<polygon fill=\"white\" stroke=\"transparent\" points=\"-4,4 -4,-104 300,-104 300,4 -4,4\"/>\n",
       "<!-- 0 -->\n",
       "<g id=\"node1\" class=\"node\">\n",
       "<title>0</title>\n",
       "<polygon fill=\"#dbdb8d\" stroke=\"transparent\" points=\"171.5,-100 124.5,-100 124.5,-81 171.5,-81 171.5,-100\"/>\n",
       "<text text-anchor=\"middle\" x=\"148\" y=\"-88\" font-family=\"sans\" font-size=\"10.00\">Person</text>\n",
       "</g>\n",
       "<!-- 1 -->\n",
       "<g id=\"node2\" class=\"node\">\n",
       "<title>1</title>\n",
       "<polygon fill=\"#aec7e8\" stroke=\"transparent\" points=\"109.5,-73 80.5,-73 80.5,-54 109.5,-54 109.5,-73\"/>\n",
       "<text text-anchor=\"middle\" x=\"95\" y=\"-61\" font-family=\"sans\" font-size=\"10.00\">R1</text>\n",
       "</g>\n",
       "<!-- 0&#45;&gt;1 -->\n",
       "<g id=\"edge1\" class=\"edge\">\n",
       "<title>0&#45;&gt;1</title>\n",
       "<path fill=\"none\" stroke=\"gray\" d=\"M129.76,-80.9C124.2,-78.27 118.11,-75.4 112.59,-72.8\"/>\n",
       "<polygon fill=\"gray\" stroke=\"gray\" points=\"112.76,-71.71 109.59,-71.38 111.86,-73.61 112.76,-71.71\"/>\n",
       "</g>\n",
       "<!-- 4 -->\n",
       "<g id=\"node5\" class=\"node\">\n",
       "<title>4</title>\n",
       "<polygon fill=\"#dbdb8d\" stroke=\"transparent\" points=\"296,-73 114,-73 114,-54 296,-54 296,-73\"/>\n",
       "<text text-anchor=\"middle\" x=\"205\" y=\"-61\" font-family=\"sans\" font-size=\"10.00\">Person.surname.inflected(nomn, sing)</text>\n",
       "</g>\n",
       "<!-- 0&#45;&gt;4 -->\n",
       "<g id=\"edge2\" class=\"edge\">\n",
       "<title>0&#45;&gt;4</title>\n",
       "<path fill=\"none\" stroke=\"gray\" d=\"M167.62,-80.9C172.51,-78.75 177.79,-76.44 182.79,-74.24\"/>\n",
       "<polygon fill=\"gray\" stroke=\"gray\" points=\"183.22,-75.2 185.54,-73.03 182.37,-73.28 183.22,-75.2\"/>\n",
       "</g>\n",
       "<!-- 2 -->\n",
       "<g id=\"node3\" class=\"node\">\n",
       "<title>2</title>\n",
       "<polygon fill=\"#dbdb8d\" stroke=\"transparent\" points=\"178,-46 0,-46 0,-27 178,-27 178,-46\"/>\n",
       "<text text-anchor=\"middle\" x=\"89\" y=\"-34\" font-family=\"sans\" font-size=\"10.00\">Person.position.inflected(nomn, sing)</text>\n",
       "</g>\n",
       "<!-- 1&#45;&gt;2 -->\n",
       "<g id=\"edge3\" class=\"edge\">\n",
       "<title>1&#45;&gt;2</title>\n",
       "<path fill=\"none\" stroke=\"gray\" d=\"M92.9,-53.76C92.57,-52.36 92.22,-50.9 91.87,-49.45\"/>\n",
       "<polygon fill=\"gray\" stroke=\"gray\" points=\"92.79,-48.78 91.07,-46.11 90.75,-49.27 92.79,-48.78\"/>\n",
       "</g>\n",
       "<!-- 3 -->\n",
       "<g id=\"node4\" class=\"node\">\n",
       "<title>3</title>\n",
       "<polygon fill=\"#eeeeee\" stroke=\"transparent\" points=\"121.5,-19 56.5,-19 56.5,0 121.5,0 121.5,-19\"/>\n",
       "<text text-anchor=\"middle\" x=\"89\" y=\"-7\" font-family=\"sans\" font-size=\"10.00\">лабрадора</text>\n",
       "</g>\n",
       "<!-- 2&#45;&gt;3 -->\n",
       "<g id=\"edge4\" class=\"edge\">\n",
       "<title>2&#45;&gt;3</title>\n",
       "<path fill=\"none\" stroke=\"gray\" d=\"M89,-26.76C89,-25.36 89,-23.9 89,-22.45\"/>\n",
       "<polygon fill=\"gray\" stroke=\"gray\" points=\"90.05,-22.11 89,-19.11 87.95,-22.11 90.05,-22.11\"/>\n",
       "</g>\n",
       "<!-- 5 -->\n",
       "<g id=\"node6\" class=\"node\">\n",
       "<title>5</title>\n",
       "<polygon fill=\"#eeeeee\" stroke=\"transparent\" points=\"237,-46 179,-46 179,-27 237,-27 237,-46\"/>\n",
       "<text text-anchor=\"middle\" x=\"208\" y=\"-34\" font-family=\"sans\" font-size=\"10.00\">Зощенко</text>\n",
       "</g>\n",
       "<!-- 4&#45;&gt;5 -->\n",
       "<g id=\"edge5\" class=\"edge\">\n",
       "<title>4&#45;&gt;5</title>\n",
       "<path fill=\"none\" stroke=\"gray\" d=\"M206.05,-53.76C206.22,-52.36 206.39,-50.9 206.57,-49.45\"/>\n",
       "<polygon fill=\"gray\" stroke=\"gray\" points=\"207.65,-49.22 206.97,-46.11 205.57,-48.97 207.65,-49.22\"/>\n",
       "</g>\n",
       "</g>\n",
       "</svg>\n"
      ],
      "text/plain": [
       "Graph(nodes=[...], edges=[...])"
      ]
     },
     "metadata": {},
     "output_type": "display_data"
    },
    {
     "data": {
      "image/svg+xml": [
       "<?xml version=\"1.0\" encoding=\"UTF-8\" standalone=\"no\"?>\n",
       "<!DOCTYPE svg PUBLIC \"-//W3C//DTD SVG 1.1//EN\"\n",
       " \"http://www.w3.org/Graphics/SVG/1.1/DTD/svg11.dtd\">\n",
       "<!-- Generated by graphviz version 2.44.0 (20200408.0750)\n",
       " -->\n",
       "<!-- Title: G Pages: 1 -->\n",
       "<svg width=\"190pt\" height=\"81pt\"\n",
       " viewBox=\"0.00 0.00 190.00 81.00\" xmlns=\"http://www.w3.org/2000/svg\" xmlns:xlink=\"http://www.w3.org/1999/xlink\">\n",
       "<g id=\"graph0\" class=\"graph\" transform=\"scale(1 1) rotate(0) translate(4 77)\">\n",
       "<title>G</title>\n",
       "<polygon fill=\"white\" stroke=\"transparent\" points=\"-4,4 -4,-77 186,-77 186,4 -4,4\"/>\n",
       "<!-- 0 -->\n",
       "<g id=\"node1\" class=\"node\">\n",
       "<title>0</title>\n",
       "<polygon fill=\"#dbdb8d\" stroke=\"transparent\" points=\"114.5,-73 67.5,-73 67.5,-54 114.5,-54 114.5,-73\"/>\n",
       "<text text-anchor=\"middle\" x=\"91\" y=\"-61\" font-family=\"sans\" font-size=\"10.00\">Person</text>\n",
       "</g>\n",
       "<!-- 1 -->\n",
       "<g id=\"node2\" class=\"node\">\n",
       "<title>1</title>\n",
       "<polygon fill=\"#dbdb8d\" stroke=\"transparent\" points=\"182,-46 0,-46 0,-27 182,-27 182,-46\"/>\n",
       "<text text-anchor=\"middle\" x=\"91\" y=\"-34\" font-family=\"sans\" font-size=\"10.00\">Person.surname.inflected(nomn, sing)</text>\n",
       "</g>\n",
       "<!-- 0&#45;&gt;1 -->\n",
       "<g id=\"edge1\" class=\"edge\">\n",
       "<title>0&#45;&gt;1</title>\n",
       "<path fill=\"none\" stroke=\"gray\" d=\"M91,-53.76C91,-52.36 91,-50.9 91,-49.45\"/>\n",
       "<polygon fill=\"gray\" stroke=\"gray\" points=\"92.05,-49.11 91,-46.11 89.95,-49.11 92.05,-49.11\"/>\n",
       "</g>\n",
       "<!-- 2 -->\n",
       "<g id=\"node3\" class=\"node\">\n",
       "<title>2</title>\n",
       "<polygon fill=\"#eeeeee\" stroke=\"transparent\" points=\"119,-19 63,-19 63,0 119,0 119,-19\"/>\n",
       "<text text-anchor=\"middle\" x=\"91\" y=\"-7\" font-family=\"sans\" font-size=\"10.00\">Петрову</text>\n",
       "</g>\n",
       "<!-- 1&#45;&gt;2 -->\n",
       "<g id=\"edge2\" class=\"edge\">\n",
       "<title>1&#45;&gt;2</title>\n",
       "<path fill=\"none\" stroke=\"gray\" d=\"M91,-26.76C91,-25.36 91,-23.9 91,-22.45\"/>\n",
       "<polygon fill=\"gray\" stroke=\"gray\" points=\"92.05,-22.11 91,-19.11 89.95,-22.11 92.05,-22.11\"/>\n",
       "</g>\n",
       "</g>\n",
       "</svg>\n"
      ],
      "text/plain": [
       "Graph(nodes=[...], edges=[...])"
      ]
     },
     "metadata": {},
     "output_type": "display_data"
    },
    {
     "data": {
      "image/svg+xml": [
       "<?xml version=\"1.0\" encoding=\"UTF-8\" standalone=\"no\"?>\n",
       "<!DOCTYPE svg PUBLIC \"-//W3C//DTD SVG 1.1//EN\"\n",
       " \"http://www.w3.org/Graphics/SVG/1.1/DTD/svg11.dtd\">\n",
       "<!-- Generated by graphviz version 2.44.0 (20200408.0750)\n",
       " -->\n",
       "<!-- Title: G Pages: 1 -->\n",
       "<svg width=\"190pt\" height=\"81pt\"\n",
       " viewBox=\"0.00 0.00 190.00 81.00\" xmlns=\"http://www.w3.org/2000/svg\" xmlns:xlink=\"http://www.w3.org/1999/xlink\">\n",
       "<g id=\"graph0\" class=\"graph\" transform=\"scale(1 1) rotate(0) translate(4 77)\">\n",
       "<title>G</title>\n",
       "<polygon fill=\"white\" stroke=\"transparent\" points=\"-4,4 -4,-77 186,-77 186,4 -4,4\"/>\n",
       "<!-- 0 -->\n",
       "<g id=\"node1\" class=\"node\">\n",
       "<title>0</title>\n",
       "<polygon fill=\"#dbdb8d\" stroke=\"transparent\" points=\"114.5,-73 67.5,-73 67.5,-54 114.5,-54 114.5,-73\"/>\n",
       "<text text-anchor=\"middle\" x=\"91\" y=\"-61\" font-family=\"sans\" font-size=\"10.00\">Person</text>\n",
       "</g>\n",
       "<!-- 1 -->\n",
       "<g id=\"node2\" class=\"node\">\n",
       "<title>1</title>\n",
       "<polygon fill=\"#dbdb8d\" stroke=\"transparent\" points=\"182,-46 0,-46 0,-27 182,-27 182,-46\"/>\n",
       "<text text-anchor=\"middle\" x=\"91\" y=\"-34\" font-family=\"sans\" font-size=\"10.00\">Person.surname.inflected(nomn, sing)</text>\n",
       "</g>\n",
       "<!-- 0&#45;&gt;1 -->\n",
       "<g id=\"edge1\" class=\"edge\">\n",
       "<title>0&#45;&gt;1</title>\n",
       "<path fill=\"none\" stroke=\"gray\" d=\"M91,-53.76C91,-52.36 91,-50.9 91,-49.45\"/>\n",
       "<polygon fill=\"gray\" stroke=\"gray\" points=\"92.05,-49.11 91,-46.11 89.95,-49.11 92.05,-49.11\"/>\n",
       "</g>\n",
       "<!-- 2 -->\n",
       "<g id=\"node3\" class=\"node\">\n",
       "<title>2</title>\n",
       "<polygon fill=\"#eeeeee\" stroke=\"transparent\" points=\"119,-19 63,-19 63,0 119,0 119,-19\"/>\n",
       "<text text-anchor=\"middle\" x=\"91\" y=\"-7\" font-family=\"sans\" font-size=\"10.00\">Пескову</text>\n",
       "</g>\n",
       "<!-- 1&#45;&gt;2 -->\n",
       "<g id=\"edge2\" class=\"edge\">\n",
       "<title>1&#45;&gt;2</title>\n",
       "<path fill=\"none\" stroke=\"gray\" d=\"M91,-26.76C91,-25.36 91,-23.9 91,-22.45\"/>\n",
       "<polygon fill=\"gray\" stroke=\"gray\" points=\"92.05,-22.11 91,-19.11 89.95,-22.11 92.05,-22.11\"/>\n",
       "</g>\n",
       "</g>\n",
       "</svg>\n"
      ],
      "text/plain": [
       "Graph(nodes=[...], edges=[...])"
      ]
     },
     "metadata": {},
     "output_type": "display_data"
    },
    {
     "data": {
      "image/svg+xml": [
       "<?xml version=\"1.0\" encoding=\"UTF-8\" standalone=\"no\"?>\n",
       "<!DOCTYPE svg PUBLIC \"-//W3C//DTD SVG 1.1//EN\"\n",
       " \"http://www.w3.org/Graphics/SVG/1.1/DTD/svg11.dtd\">\n",
       "<!-- Generated by graphviz version 2.44.0 (20200408.0750)\n",
       " -->\n",
       "<!-- Title: G Pages: 1 -->\n",
       "<svg width=\"190pt\" height=\"81pt\"\n",
       " viewBox=\"0.00 0.00 190.00 81.00\" xmlns=\"http://www.w3.org/2000/svg\" xmlns:xlink=\"http://www.w3.org/1999/xlink\">\n",
       "<g id=\"graph0\" class=\"graph\" transform=\"scale(1 1) rotate(0) translate(4 77)\">\n",
       "<title>G</title>\n",
       "<polygon fill=\"white\" stroke=\"transparent\" points=\"-4,4 -4,-77 186,-77 186,4 -4,4\"/>\n",
       "<!-- 0 -->\n",
       "<g id=\"node1\" class=\"node\">\n",
       "<title>0</title>\n",
       "<polygon fill=\"#dbdb8d\" stroke=\"transparent\" points=\"114.5,-73 67.5,-73 67.5,-54 114.5,-54 114.5,-73\"/>\n",
       "<text text-anchor=\"middle\" x=\"91\" y=\"-61\" font-family=\"sans\" font-size=\"10.00\">Person</text>\n",
       "</g>\n",
       "<!-- 1 -->\n",
       "<g id=\"node2\" class=\"node\">\n",
       "<title>1</title>\n",
       "<polygon fill=\"#dbdb8d\" stroke=\"transparent\" points=\"182,-46 0,-46 0,-27 182,-27 182,-46\"/>\n",
       "<text text-anchor=\"middle\" x=\"91\" y=\"-34\" font-family=\"sans\" font-size=\"10.00\">Person.surname.inflected(nomn, sing)</text>\n",
       "</g>\n",
       "<!-- 0&#45;&gt;1 -->\n",
       "<g id=\"edge1\" class=\"edge\">\n",
       "<title>0&#45;&gt;1</title>\n",
       "<path fill=\"none\" stroke=\"gray\" d=\"M91,-53.76C91,-52.36 91,-50.9 91,-49.45\"/>\n",
       "<polygon fill=\"gray\" stroke=\"gray\" points=\"92.05,-49.11 91,-46.11 89.95,-49.11 92.05,-49.11\"/>\n",
       "</g>\n",
       "<!-- 2 -->\n",
       "<g id=\"node3\" class=\"node\">\n",
       "<title>2</title>\n",
       "<polygon fill=\"#eeeeee\" stroke=\"transparent\" points=\"116.5,-19 65.5,-19 65.5,0 116.5,0 116.5,-19\"/>\n",
       "<text text-anchor=\"middle\" x=\"91\" y=\"-7\" font-family=\"sans\" font-size=\"10.00\">Путину</text>\n",
       "</g>\n",
       "<!-- 1&#45;&gt;2 -->\n",
       "<g id=\"edge2\" class=\"edge\">\n",
       "<title>1&#45;&gt;2</title>\n",
       "<path fill=\"none\" stroke=\"gray\" d=\"M91,-26.76C91,-25.36 91,-23.9 91,-22.45\"/>\n",
       "<polygon fill=\"gray\" stroke=\"gray\" points=\"92.05,-22.11 91,-19.11 89.95,-22.11 92.05,-22.11\"/>\n",
       "</g>\n",
       "</g>\n",
       "</svg>\n"
      ],
      "text/plain": [
       "Graph(nodes=[...], edges=[...])"
      ]
     },
     "metadata": {},
     "output_type": "display_data"
    },
    {
     "data": {
      "image/svg+xml": [
       "<?xml version=\"1.0\" encoding=\"UTF-8\" standalone=\"no\"?>\n",
       "<!DOCTYPE svg PUBLIC \"-//W3C//DTD SVG 1.1//EN\"\n",
       " \"http://www.w3.org/Graphics/SVG/1.1/DTD/svg11.dtd\">\n",
       "<!-- Generated by graphviz version 2.44.0 (20200408.0750)\n",
       " -->\n",
       "<!-- Title: G Pages: 1 -->\n",
       "<svg width=\"190pt\" height=\"81pt\"\n",
       " viewBox=\"0.00 0.00 190.00 81.00\" xmlns=\"http://www.w3.org/2000/svg\" xmlns:xlink=\"http://www.w3.org/1999/xlink\">\n",
       "<g id=\"graph0\" class=\"graph\" transform=\"scale(1 1) rotate(0) translate(4 77)\">\n",
       "<title>G</title>\n",
       "<polygon fill=\"white\" stroke=\"transparent\" points=\"-4,4 -4,-77 186,-77 186,4 -4,4\"/>\n",
       "<!-- 0 -->\n",
       "<g id=\"node1\" class=\"node\">\n",
       "<title>0</title>\n",
       "<polygon fill=\"#dbdb8d\" stroke=\"transparent\" points=\"114.5,-73 67.5,-73 67.5,-54 114.5,-54 114.5,-73\"/>\n",
       "<text text-anchor=\"middle\" x=\"91\" y=\"-61\" font-family=\"sans\" font-size=\"10.00\">Person</text>\n",
       "</g>\n",
       "<!-- 1 -->\n",
       "<g id=\"node2\" class=\"node\">\n",
       "<title>1</title>\n",
       "<polygon fill=\"#dbdb8d\" stroke=\"transparent\" points=\"182,-46 0,-46 0,-27 182,-27 182,-46\"/>\n",
       "<text text-anchor=\"middle\" x=\"91\" y=\"-34\" font-family=\"sans\" font-size=\"10.00\">Person.surname.inflected(nomn, sing)</text>\n",
       "</g>\n",
       "<!-- 0&#45;&gt;1 -->\n",
       "<g id=\"edge1\" class=\"edge\">\n",
       "<title>0&#45;&gt;1</title>\n",
       "<path fill=\"none\" stroke=\"gray\" d=\"M91,-53.76C91,-52.36 91,-50.9 91,-49.45\"/>\n",
       "<polygon fill=\"gray\" stroke=\"gray\" points=\"92.05,-49.11 91,-46.11 89.95,-49.11 92.05,-49.11\"/>\n",
       "</g>\n",
       "<!-- 2 -->\n",
       "<g id=\"node3\" class=\"node\">\n",
       "<title>2</title>\n",
       "<polygon fill=\"#eeeeee\" stroke=\"transparent\" points=\"122,-19 60,-19 60,0 122,0 122,-19\"/>\n",
       "<text text-anchor=\"middle\" x=\"91\" y=\"-7\" font-family=\"sans\" font-size=\"10.00\">Пермяков</text>\n",
       "</g>\n",
       "<!-- 1&#45;&gt;2 -->\n",
       "<g id=\"edge2\" class=\"edge\">\n",
       "<title>1&#45;&gt;2</title>\n",
       "<path fill=\"none\" stroke=\"gray\" d=\"M91,-26.76C91,-25.36 91,-23.9 91,-22.45\"/>\n",
       "<polygon fill=\"gray\" stroke=\"gray\" points=\"92.05,-22.11 91,-19.11 89.95,-22.11 92.05,-22.11\"/>\n",
       "</g>\n",
       "</g>\n",
       "</svg>\n"
      ],
      "text/plain": [
       "Graph(nodes=[...], edges=[...])"
      ]
     },
     "metadata": {},
     "output_type": "display_data"
    }
   ],
   "source": [
    "for match in parser2.findall(text_test): \n",
    "    display(match.tree.as_dot)"
   ]
  },
  {
   "cell_type": "code",
   "execution_count": 31,
   "metadata": {},
   "outputs": [
    {
     "name": "stdout",
     "output_type": "stream",
     "text": [
      "Олечка, Кирюша, Олима и Зарина нашли кота Кадета и лабрадора Зощенко и\n",
      "                                                   ─────────────────  \n",
      " отнесли их слесарю Петрову и его жене \n",
      "                    ───────            \n",
      "Надежде Павловне, а они отдали их спикеру Дмитрию Пескову и президенту\n",
      "                                                  ───────             \n",
      " Владимиру Путину. \n",
      "           ──────  \n",
      "Иван Олегович Кадигроб сказал, что это большое событие. И все это \n",
      "благодаря помощи добрых Пермяков.\n",
      "                        ──────── \n"
     ]
    }
   ],
   "source": [
    "spans = [_.span for _ in parser2.findall(text_test)]\n",
    "show_markup(text_test, spans)"
   ]
  },
  {
   "cell_type": "markdown",
   "metadata": {},
   "source": [
    "Итог проверки на искусственной строке.\n",
    "\n",
    "Находит славянские и неславянские имена, но не все и не во всех формах. Находит \"Зухра\" и \"Зарина\", но \"Олима\" - нет. Находит \"Олечка\", но не находит \"Кирюша\" (только \"Кирилл\").\n",
    "\n",
    "Нашелся \"лабрадор Зощенко\" и \"кот Гюго\", но не нашлись \"кот Кадет\" и \"лабрадор Персик\" :("
   ]
  },
  {
   "cell_type": "markdown",
   "metadata": {},
   "source": [
    "Общий итог.\n",
    "\n",
    "Я не совсем понимаю, как работат поиск сущностей в Yargy. \n",
    "\n",
    "В репозитории в папке data выложены словари имен, фамилий и спорных элементов (maybe_last). Нет отдельного словаря для отчеств, хотя есть такой gram и они извлекаются по нему вполне успешно. В других словарях отчеств тоже нет. Вместе с тем, не все, что есть в словарях имен и фамилий, находится в предложенном тексте (фамилия \"Кадигроб\" в тестовом тексте выше - точно есть в словаре, но не извлекается). И наоброт: в словаре имен точно нет слов \"хрюня\" и \"кипиш\", однако они извлекаются из текста как имена. \n",
    "\n",
    "Полагаю, что происходит не сравнение со словаерм, а работает предобученная модель. Модели slovnet - тоже часть проекта Natasha. https://github.com/natasha/slovnet"
   ]
  },
  {
   "cell_type": "markdown",
   "metadata": {},
   "source": [
    "## Подвал"
   ]
  },
  {
   "cell_type": "code",
   "execution_count": null,
   "metadata": {},
   "outputs": [],
   "source": [
    "PERSON.normalized.as_bnf  # так можно посмотреть схему того, как работает правило "
   ]
  },
  {
   "cell_type": "markdown",
   "metadata": {},
   "source": [
    "Ниже ⬇︎ скрипт морфологического рабор текста, с ним удобно сверяться, когда непонятно, как интепретируются токены при парсинге.\n",
    "\n",
    "+ несколько любопытных слов отдельно, чтобы не искать."
   ]
  },
  {
   "cell_type": "code",
   "execution_count": null,
   "metadata": {},
   "outputs": [],
   "source": [
    "from yargy.tokenizer import MorphTokenizer\n",
    "tokenizer = MorphTokenizer()\n",
    "list(tokenizer(text))"
   ]
  },
  {
   "cell_type": "code",
   "execution_count": null,
   "metadata": {},
   "outputs": [],
   "source": [
    "MorphToken(\n",
    "     value='Островитян',\n",
    "     span=[1998, 2008),\n",
    "     type='RU',\n",
    "     forms=[Form('островитянин', Grams(NOUN,anim,gent,masc,plur)),\n",
    "      Form('островитянин', Grams(NOUN,accs,anim,masc,plur))]"
   ]
  },
  {
   "cell_type": "code",
   "execution_count": null,
   "metadata": {},
   "outputs": [],
   "source": [
    "MorphToken(\n",
    "     value='кот',\n",
    "     span=[2281, 2284),\n",
    "     type='RU',\n",
    "     forms=[Form('кот', Grams(NOUN,anim,masc,nomn,sing))]\n",
    " ),\n",
    " MorphToken(\n",
    "     value='Кипиш',\n",
    "     span=[2285, 2290),\n",
    "     type='RU',\n",
    "     forms=[Form('кипиш', Grams(NOUN,Name,anim,masc,nomn,sing))]"
   ]
  },
  {
   "cell_type": "code",
   "execution_count": null,
   "metadata": {},
   "outputs": [],
   "source": [
    "MorphToken(\n",
    "     value='Кипиша',\n",
    "     span=[2557, 2563),\n",
    "     type='RU',\n",
    "     forms=[Form('киписать', Grams(GRND,impf,pres,tran)),\n",
    "      Form('кипиш', Grams(NOUN,Name,anim,gent,masc,sing)),\n",
    "      Form('кипиш', Grams(NOUN,Name,accs,anim,masc,sing))]"
   ]
  },
  {
   "cell_type": "code",
   "execution_count": null,
   "metadata": {},
   "outputs": [],
   "source": [
    "MorphToken(\n",
    "     value='Пермяков',\n",
    "     span=[1165, 1173),\n",
    "     type='RU',\n",
    "     forms=[Form('пермяк', Grams(NOUN,anim,gent,masc,plur)),\n",
    "      Form('пермяк', Grams(NOUN,accs,anim,masc,plur)),\n",
    "      Form('пермяков', Grams(NOUN,Sgtm,Surn,anim,masc,nomn,sing))]\n",
    " ),"
   ]
  }
 ],
 "metadata": {
  "kernelspec": {
   "display_name": "Python 3",
   "language": "python",
   "name": "python3"
  },
  "language_info": {
   "codemirror_mode": {
    "name": "ipython",
    "version": 3
   },
   "file_extension": ".py",
   "mimetype": "text/x-python",
   "name": "python",
   "nbconvert_exporter": "python",
   "pygments_lexer": "ipython3",
   "version": "3.8.2"
  }
 },
 "nbformat": 4,
 "nbformat_minor": 4
}
