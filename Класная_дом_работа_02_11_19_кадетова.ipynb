{
  "nbformat": 4,
  "nbformat_minor": 0,
  "metadata": {
    "colab": {
      "name": "Класная\\дом. работа 02.11.19 кадетова.ipynb",
      "provenance": [],
      "include_colab_link": true
    },
    "kernelspec": {
      "name": "python3",
      "display_name": "Python 3"
    }
  },
  "cells": [
    {
      "cell_type": "markdown",
      "metadata": {
        "id": "view-in-github",
        "colab_type": "text"
      },
      "source": [
        "<a href=\"https://colab.research.google.com/github/Liza-Kadetova/HseCL_kadetova/blob/master/%D0%9A%D0%BB%D0%B0%D1%81%D0%BD%D0%B0%D1%8F_%D0%B4%D0%BE%D0%BC_%D1%80%D0%B0%D0%B1%D0%BE%D1%82%D0%B0_02_11_19_%D0%BA%D0%B0%D0%B4%D0%B5%D1%82%D0%BE%D0%B2%D0%B0.ipynb\" target=\"_parent\"><img src=\"https://colab.research.google.com/assets/colab-badge.svg\" alt=\"Open In Colab\"/></a>"
      ]
    },
    {
      "cell_type": "markdown",
      "metadata": {
        "id": "WbpgWXdHvgV8",
        "colab_type": "text"
      },
      "source": [
        "1.  генератор названий компаний (почти как генератор паролей)"
      ]
    },
    {
      "cell_type": "code",
      "metadata": {
        "id": "lIwa6cOqvcTs",
        "colab_type": "code",
        "outputId": "38311e80-6b4b-413e-c0da-3e21869cbdcf",
        "colab": {
          "base_uri": "https://localhost:8080/",
          "height": 34
        }
      },
      "source": [
        "# генератор названий компаний\n",
        "\n",
        "import random\n",
        "\n",
        "names = [\"пром\",\"агро\",\"торг\",\"урал\",\"север\",\"юг\",\"техно\",\n",
        "\"экспо\",\"метал\",\"нефть\",\"сельхоз\",\"фарм\",\"строй\",\n",
        "\"кредит\",\"алмаз\",\"-девелопмент\",\"развитие\",\"мос\",\n",
        "\"рос\",\"кубань\",\"сибирь\",\"восток\",\"нано\",\"софт\",\n",
        "\"микро\",\"онлайн\",\"инвест\",\"текстиль\",\"цемент\"]\n",
        "\n",
        "# Ваш код ниже\n",
        "brand = '' # предварительно создаем переменную для бенда с типом \"строка\"\n",
        "#пусть в ней будет 6 частей\n",
        "for bb in range(6): \n",
        "    brand = brand + random.choice(names) # на каждом из 6 шагов выбираем рандомный элемент из списка и добавляем в строку\n",
        "brand=brand.capitalize()\n",
        "print(brand)\n",
        "# запустите ячейку несклько раз"
      ],
      "execution_count": 0,
      "outputs": [
        {
          "output_type": "stream",
          "text": [
            "Текстильалмазпромюгметалнефть\n"
          ],
          "name": "stdout"
        }
      ]
    },
    {
      "cell_type": "markdown",
      "metadata": {
        "id": "2yJufW6c1J2r",
        "colab_type": "text"
      },
      "source": [
        "2. Транслитератор\n",
        "\n",
        "Напишите программу, которая будет транслитерировать текст (собака >> sobaka)\n",
        "\n",
        "Вам нужно: \n",
        "1. написать побуквенный транслитератор с кириллицы на латиницу(здесь нужно ипользовать словарь)\n",
        "\n",
        "2. \"обернуть\" ваш код транслитератора в функцию\n",
        "\n",
        "3. применить функцию к тексту (возьмите любой, на ваш выбор, длиной от 2 до 7 предложений. Хорошая идея - искать в статьях на Википедии)\n",
        "    \n",
        "    3.1. чтобы работать с текстом, сохраните его в переменную\n",
        "\n"
      ]
    },
    {
      "cell_type": "code",
      "metadata": {
        "id": "OY3JW9ZpwAkS",
        "colab_type": "code",
        "outputId": "55a9923f-d830-4525-ead3-53ede58215dd",
        "colab": {
          "base_uri": "https://localhost:8080/",
          "height": 54
        }
      },
      "source": [
        "# Ваш код здесь:\n",
        "import string\n",
        "trans = {'а': 'a', 'б': 'b', 'в':'v', 'г':'g', 'д':'d','е':'e','ё':'yo', 'ж':'zh', \n",
        "         'з':'z','и':'i','й':'j','к':'k','л':'l','м':'m','н':'n','о':'o','п':'p',\n",
        "         'р':'r','с':'s','т':'t','у':'u','ф':'f','х':'x','ц':'c','ч':'ch','ш':'sh',\n",
        "         'щ':'shh','ъ':'``','ы':'y','ь':'`','э':'e`','ю':'yu','я':'ya',\n",
        "         'А': 'A', 'Б': 'B', 'В':'V', 'Г':'G', 'Д':'D','Е':'E','Ё':'YO', 'Ж':'ZH', \n",
        "         'З':'Z','И':'I','Й':'J','К':'K','Л':'L','М':'M','Н':'N','О':'O','П':'P',\n",
        "         'Р':'R','С':'S','Т':'T','У':'U','Ф':'F','Х':'X','Ц':'C','Ч':'CH','Ш':'SH',\n",
        "         'Щ':'SHH','Ъ':'``','Ы':'Y','Ь':'`','Э':'E`','Ю':'YU','Я':'YA',}\n",
        "datext = \"Еще с раннего утра всё небо обложили дождевые тучи; было тихо, не жарко и скучно, как бывает \\\n",
        "\\nв серые пасмурные дни, когда над полем давно уже нависли тучи, ждешь дождя, а его нет. \\\n",
        "\\nВетеринарный врач Иван Иваныч и учитель гимназии Буркин уже утомились идти, и поле \\\n",
        "\\nпредставлялось им бесконечным. Далеко впереди еле были видны ветряные мельницы села \\\n",
        "\\nМироносицкого, справа тянулся и потом исчезал далеко за селом ряд холмов, и оба они знали, \\\n",
        "\\nчто это берег реки, там луга, зеленые ивы, усадьбы, и если стать на один из холмов, то оттуда \\\n",
        "\\nвидно такое же громадное поле, телеграф и поезд, который издали похож на ползущую \\\n",
        "\\nгусеницу, а в ясную погоду оттуда бывает виден даже город. Теперь, в тихую погоду, когда вся \\\n",
        "\\nприрода казалась кроткой и задумчивой, Иван Иваныч и Буркин были проникнуты любовью к \\\n",
        "\\nэтому полю и оба думали о том, как велика, как прекрасна эта страна.\"\n",
        "#print(datext)\n",
        "def translit(t):\n",
        "  t = t.translate(str.maketrans(trans))\n",
        "  return t\n",
        "translit(datext)\n",
        "\n",
        "#??? Почему при транслите перестает распознаваться перенос строки?"
      ],
      "execution_count": 0,
      "outputs": [
        {
          "output_type": "execute_result",
          "data": {
            "text/plain": [
              "'Eshhe s rannego utra vsyo nebo oblozhili dozhdevye tuchi; bylo tixo, ne zharko i skuchno, kak byvaet \\nv serye pasmurnye dni, kogda nad polem davno uzhe navisli tuchi, zhdesh` dozhdya, a ego net. \\nVeterinarnyj vrach Ivan Ivanych i uchitel` gimnazii Burkin uzhe utomilis` idti, i pole \\npredstavlyalos` im beskonechnym. Daleko vperedi ele byli vidny vetryanye mel`nicy sela \\nMironosickogo, sprava tyanulsya i potom ischezal daleko za selom ryad xolmov, i oba oni znali, \\nchto e`to bereg reki, tam luga, zelenye ivy, usad`by, i esli stat` na odin iz xolmov, to ottuda \\nvidno takoe zhe gromadnoe pole, telegraf i poezd, kotoryj izdali poxozh na polzushhuyu \\ngusenicu, a v yasnuyu pogodu ottuda byvaet viden dazhe gorod. Teper`, v tixuyu pogodu, kogda vsya \\npriroda kazalas` krotkoj i zadumchivoj, Ivan Ivanych i Burkin byli proniknuty lyubov`yu k \\ne`tomu polyu i oba dumali o tom, kak velika, kak prekrasna e`ta strana.'"
            ]
          },
          "metadata": {
            "tags": []
          },
          "execution_count": 47
        }
      ]
    }
  ]
}