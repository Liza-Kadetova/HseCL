{
  "nbformat": 4,
  "nbformat_minor": 0,
  "metadata": {
    "colab": {
      "name": "16.11. hw Liza (ngrams, hard mode).ipynb",
      "provenance": [],
      "include_colab_link": true
    },
    "kernelspec": {
      "name": "python3",
      "display_name": "Python 3"
    }
  },
  "cells": [
    {
      "cell_type": "markdown",
      "metadata": {
        "id": "view-in-github",
        "colab_type": "text"
      },
      "source": [
        "<a href=\"https://colab.research.google.com/github/Liza-Kadetova/HseCL_kadetova/blob/master/16_11_hw_Liza_(ngrams%2C_hard_mode).ipynb\" target=\"_parent\"><img src=\"https://colab.research.google.com/assets/colab-badge.svg\" alt=\"Open In Colab\"/></a>"
      ]
    },
    {
      "cell_type": "markdown",
      "metadata": {
        "id": "Dl9u-9Ia4xiq",
        "colab_type": "text"
      },
      "source": [
        "hard mode\n",
        "\n",
        "напишите алгоритм, который выводит все n-граммы для введенного слова. Например, для слова *hello* мы должны получить \n",
        "*h,\n",
        "e,\n",
        "l,\n",
        "l,\n",
        "o,\n",
        "he,\n",
        "el,\n",
        "ll,\n",
        "lo,\n",
        "hel,\n",
        "ell,\n",
        "llo,\n",
        "hell,\n",
        "ello,\n",
        "hello.* "
      ]
    },
    {
      "cell_type": "code",
      "metadata": {
        "id": "BIxPEHI01rbj",
        "colab_type": "code",
        "colab": {}
      },
      "source": [
        "from sklearn.feature_extraction.text import CountVectorizer\n",
        "import nltk\n",
        "import string\n",
        "import re\n",
        "from collections import Counter"
      ],
      "execution_count": 0,
      "outputs": []
    },
    {
      "cell_type": "code",
      "metadata": {
        "id": "Qnd1_-st2AKJ",
        "colab_type": "code",
        "colab": {
          "base_uri": "https://localhost:8080/",
          "height": 68
        },
        "outputId": "4d6f2394-ef9b-4971-adc3-57e7296d50b2"
      },
      "source": [
        "def such_much():\n",
        "  text = input('')\n",
        "  text = text.lower()\n",
        "  text = re.sub(\"[!\\\"#$%&\\'—()*+,-»«./:;<=>?@[\\\\]^_`{|}~]?\",\"\",text)\n",
        "  print(text)\n",
        "  i = len(text)\n",
        "  bigram_vectorizer = CountVectorizer(ngram_range=(1,i),token_pattern=r'\\w', min_df=1)\n",
        "  analyze = bigram_vectorizer.build_analyzer()\n",
        "  z = analyze(text)\n",
        "  print(z)\n",
        "such_much()"
      ],
      "execution_count": 18,
      "outputs": [
        {
          "output_type": "stream",
          "text": [
            "кОшки!\n",
            "кошки\n",
            "['к', 'о', 'ш', 'к', 'и', 'к о', 'о ш', 'ш к', 'к и', 'к о ш', 'о ш к', 'ш к и', 'к о ш к', 'о ш к и', 'к о ш к и']\n"
          ],
          "name": "stdout"
        }
      ]
    }
  ]
}