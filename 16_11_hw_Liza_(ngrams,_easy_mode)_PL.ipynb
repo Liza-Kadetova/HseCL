{
  "nbformat": 4,
  "nbformat_minor": 0,
  "metadata": {
    "colab": {
      "name": "16.11. hw Liza (ngrams, easy mode) PL.ipynb",
      "provenance": [],
      "collapsed_sections": [],
      "include_colab_link": true
    },
    "kernelspec": {
      "name": "python3",
      "display_name": "Python 3"
    }
  },
  "cells": [
    {
      "cell_type": "markdown",
      "metadata": {
        "id": "view-in-github",
        "colab_type": "text"
      },
      "source": [
        "<a href=\"https://colab.research.google.com/github/Liza-Kadetova/HseCL_kadetova/blob/master/16_11_hw_Liza_(ngrams%2C_easy_mode)_PL.ipynb\" target=\"_parent\"><img src=\"https://colab.research.google.com/assets/colab-badge.svg\" alt=\"Open In Colab\"/></a>"
      ]
    },
    {
      "cell_type": "markdown",
      "metadata": {
        "id": "JLWvBfvOzE3z",
        "colab_type": "text"
      },
      "source": [
        "Посчитать самые распространенные согласные (включая лигатуры) в польском стишке-скороговорке\n",
        "\n",
        "\n",
        "\n",
        "\n"
      ]
    },
    {
      "cell_type": "code",
      "metadata": {
        "id": "u-RRO9sCKT_1",
        "colab_type": "code",
        "colab": {}
      },
      "source": [
        "from sklearn.feature_extraction.text import CountVectorizer\n",
        "import nltk\n",
        "import string\n",
        "import re\n",
        "from collections import Counter"
      ],
      "execution_count": 0,
      "outputs": []
    },
    {
      "cell_type": "code",
      "metadata": {
        "id": "caHUz5maKx-P",
        "colab_type": "code",
        "outputId": "c22a994c-5228-43c9-bd47-38d8c14618b1",
        "colab": {
          "base_uri": "https://localhost:8080/",
          "height": 85
        }
      },
      "source": [
        "text = '''W Szczebrzeszynie chrząszcz brzmi w trzcinie.\n",
        "I Szczebrzeszyn z tego słynie.\n",
        "Wół go pyta: „Panie chrząszczu,\n",
        "Po cóż pan tak brzęczy w gąszczu?'''\n",
        "print(text)"
      ],
      "execution_count": 0,
      "outputs": [
        {
          "output_type": "stream",
          "text": [
            "W Szczebrzeszynie chrząszcz brzmi w trzcinie.\n",
            "I Szczebrzeszyn z tego słynie.\n",
            "Wół go pyta: „Panie chrząszczu,\n",
            "Po cóż pan tak brzęczy w gąszczu?\n"
          ],
          "name": "stdout"
        }
      ]
    },
    {
      "cell_type": "code",
      "metadata": {
        "id": "PWIoMimkbsIQ",
        "colab_type": "code",
        "outputId": "9b8576c9-966b-4764-8405-2a1fbae47d3f",
        "colab": {
          "base_uri": "https://localhost:8080/",
          "height": 34
        }
      },
      "source": [
        "text = re.sub(r'[\\.?,:„\\n]',' ',text)\n",
        "print(text)"
      ],
      "execution_count": 0,
      "outputs": [
        {
          "output_type": "stream",
          "text": [
            "W Szczebrzeszynie chrząszcz brzmi w trzcinie  I Szczebrzeszyn z tego słynie  Wół go pyta   Panie chrząszczu  Po cóż pan tak brzęczy w gąszczu \n"
          ],
          "name": "stdout"
        }
      ]
    },
    {
      "cell_type": "code",
      "metadata": {
        "id": "RcmdYyzsKVZf",
        "colab_type": "code",
        "outputId": "35228b27-5256-40f2-d490-315cbbf160e2",
        "colab": {
          "base_uri": "https://localhost:8080/",
          "height": 34
        }
      },
      "source": [
        "text = text.lower()\n",
        "print(text)"
      ],
      "execution_count": 0,
      "outputs": [
        {
          "output_type": "stream",
          "text": [
            "w szczebrzeszynie chrząszcz brzmi w trzcinie  i szczebrzeszyn z tego słynie  wół go pyta   panie chrząszczu  po cóż pan tak brzęczy w gąszczu \n"
          ],
          "name": "stdout"
        }
      ]
    },
    {
      "cell_type": "code",
      "metadata": {
        "id": "U7B_uxXsbdek",
        "colab_type": "code",
        "outputId": "b0daae0d-603d-4a18-8e9c-8a8c32e5ffe9",
        "colab": {
          "base_uri": "https://localhost:8080/",
          "height": 442
        }
      },
      "source": [
        "bigram_vectorizer = CountVectorizer(ngram_range=(1,1), \n",
        "                                    token_pattern=r'[bсćdfghjklłmnńprsśtwzźższczrzchdzdżdź]{2}', min_df=1)\n",
        "analyze = bigram_vectorizer.build_analyzer()\n",
        "analyze(text)"
      ],
      "execution_count": 0,
      "outputs": [
        {
          "output_type": "execute_result",
          "data": {
            "text/plain": [
              "['sz',\n",
              " 'cz',\n",
              " 'br',\n",
              " 'sz',\n",
              " 'ch',\n",
              " 'rz',\n",
              " 'sz',\n",
              " 'cz',\n",
              " 'br',\n",
              " 'zm',\n",
              " 'tr',\n",
              " 'zc',\n",
              " 'sz',\n",
              " 'cz',\n",
              " 'br',\n",
              " 'sz',\n",
              " 'sł',\n",
              " 'ch',\n",
              " 'rz',\n",
              " 'sz',\n",
              " 'cz',\n",
              " 'br',\n",
              " 'cz',\n",
              " 'sz',\n",
              " 'cz']"
            ]
          },
          "metadata": {
            "tags": []
          },
          "execution_count": 24
        }
      ]
    },
    {
      "cell_type": "code",
      "metadata": {
        "id": "oRsr0-0UzWru",
        "colab_type": "code",
        "outputId": "65843ca3-77ac-451f-e238-fdcee7111ac5",
        "colab": {
          "base_uri": "https://localhost:8080/",
          "height": 170
        }
      },
      "source": [
        "z = analyze(text)\n",
        "Counter(z).most_common()"
      ],
      "execution_count": 0,
      "outputs": [
        {
          "output_type": "execute_result",
          "data": {
            "text/plain": [
              "[('sz', 7),\n",
              " ('cz', 6),\n",
              " ('br', 4),\n",
              " ('ch', 2),\n",
              " ('rz', 2),\n",
              " ('zm', 1),\n",
              " ('tr', 1),\n",
              " ('zc', 1),\n",
              " ('sł', 1)]"
            ]
          },
          "metadata": {
            "tags": []
          },
          "execution_count": 25
        }
      ]
    }
  ]
}